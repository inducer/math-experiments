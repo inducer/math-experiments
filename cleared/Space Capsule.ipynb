{
  "cells": [
    {
      "cell_type": "markdown",
      "metadata": {},
      "source": [
        "# Launching a Space Capsule"
      ]
    },
    {
      "cell_type": "markdown",
      "metadata": {},
      "source": [
        "Before we begin, here is again a cell with code to adjust some settings. Just execute it using Shift+Enter:"
      ]
    },
    {
      "cell_type": "code",
      "execution_count": 27,
      "metadata": {},
      "outputs": [],
      "source": [
        "options(digits=9, repr.plot.width=5, repr.plot.height=4, scipen=5)"
      ]
    },
    {
      "cell_type": "markdown",
      "metadata": {},
      "source": [
        "In our work with interest rates, you have seen this type of computation over and over:\n",
        "\n",
        "```\n",
        "new_value <- old_value + time_increment * rate_of_change\n",
        "```\n",
        "\n",
        "where the \"time increment\" was the time interval between compoundings, and the \"rate of change\" was the balance times the interest rate.\n",
        "\n",
        "It turns out that, using the same math, we can also simulate launching a space capsule, by looking at the\n",
        "\n",
        "* altitude, and the\n",
        "* vertical (up and down) speed\n",
        "\n",
        "of the capsule.\n",
        "\n",
        "The vertical speed is the rate of change of the altitude.\n",
        "\n",
        "We will first try out what happens if we prescribe that the capsule goes up at a constant speed. To keep things simple, we will start the capsule out at altitude 0 and (pretty arbitrarily) choose a small time increment."
      ]
    },
    {
      "cell_type": "code",
      "execution_count": 28,
      "metadata": {},
      "outputs": [],
      "source": [
        "altitude <- 0\n",
        "time_increment <- 0.1\n",
        "steps <- 100/time_increment\n",
        "speed <- 50  # feet/second\n",
        "\n",
        "for (i in 1:steps) {\n",
        "    altitude <- altitude + time_increment * speed\n",
        "}\n",
        "\n",
        "# print final altitude\n",
        "print(altitude)"
      ]
    },
    {
      "cell_type": "markdown",
      "metadata": {},
      "source": [
        "Modify this code to plot the altitude of the capsule over time."
      ]
    },
    {
      "cell_type": "code",
      "execution_count": 29,
      "metadata": {},
      "outputs": [],
      "source": []
    },
    {
      "cell_type": "markdown",
      "metadata": {},
      "source": [
        "If you've watched a rocket launch on TV, you've probably noticed that the rocket goes slowly at first and then speeds up. Let's try to model that by setting the speed equal to 50 times the time. Repeat your calculation from above, with that change."
      ]
    },
    {
      "cell_type": "code",
      "execution_count": 30,
      "metadata": {},
      "outputs": [],
      "source": []
    },
    {
      "cell_type": "markdown",
      "metadata": {},
      "source": [
        "Do you recognize the curve you get?\n",
        "\n",
        "------------"
      ]
    },
    {
      "cell_type": "markdown",
      "metadata": {},
      "source": [
        "Setting the speed equal to 50 times the time is kind of hard to justify: Why would that be the case? Let's try and model this better. Realize that the speed is also subject to a rate of change in time. For this next experiment, we will (for a moment) assume that the capsule starts at ground level, but at a very high upward speed.\n",
        "\n",
        "But gravity will, over time, decrease the speed, so we will (somewhat arbitrarily) set a rate of change for the speed of -32."
      ]
    },
    {
      "cell_type": "code",
      "execution_count": 22,
      "metadata": {},
      "outputs": [],
      "source": [
        "altitude <- 0\n",
        "speed <- 2000\n",
        "time_increment <- 0.1\n",
        "steps <- 100/time_increment\n",
        "\n",
        "for (i in 1:steps) {\n",
        "    speed <- speed + time_increment * (-32)\n",
        "    altitude <- altitude + time_increment * speed\n",
        "}\n",
        "\n",
        "# print final altitude\n",
        "print(altitude)"
      ]
    },
    {
      "cell_type": "markdown",
      "metadata": {},
      "source": [
        "Again, add plotting code to see what's going on:"
      ]
    },
    {
      "cell_type": "code",
      "execution_count": 23,
      "metadata": {},
      "outputs": [],
      "source": []
    },
    {
      "cell_type": "markdown",
      "metadata": {},
      "source": [
        "## Conditionals\n",
        "\n",
        "It's kind of unrealistic that the capsule starts out at ground level with a super-high speed. Let's work to make that more realistic, too. So we will need to model the rocket that the capsule sits on top of. The rocket, ultimately, just provides an upward change of the speed. Let's say, it applies a rate of change of 100 (in the upward direction!) to the speed. Every rocket runs out of fuel eventually though, so it won't do that forever. Let's say it stops when the time reaches 30 seconds.\n",
        "\n",
        "To model that, we will learn one more programming concept: Conditionals. They look like this:\n",
        "```\n",
        "if (time < 30) {\n",
        "    # upward speed change from the rocket, minus gravity\n",
        "    speed <- speed + time_increment * (-32 + 100)\n",
        "}\n",
        "else {\n",
        "    # just gravity\n",
        "    speed <- speed + time_increment * (-32)\n",
        "}\n",
        "```\n",
        "They do what you probably already suspect: If the condition (`time < 30` in our case) is true, then the code in the first set of curly braces is executed, otherwise the code in the second, after the `else`.\n",
        "\n",
        "Incorporate this model of the rocket into your previous program, set the initial speed to zero and see what happens:"
      ]
    },
    {
      "cell_type": "code",
      "execution_count": 31,
      "metadata": {},
      "outputs": [],
      "source": []
    },
    {
      "cell_type": "markdown",
      "metadata": {},
      "source": [
        "That brings us to the end of this activity, thank you for playing!\n",
        "\n",
        "------------------------------\n",
        "\n",
        "If you're feeling adventurous, you could try to also model the following things that folks who build rockets in real life have to take into account:\n",
        "\n",
        "- Gravity decrease with altitude. You can find the [escape velocity](https://en.wikipedia.org/wiki/Escape_velocity).\n",
        "- Aerodynamic drag (speed decrease proportional to speed)\n",
        "    - Decreases with altitude\n",
        "- Rocket gradually loses thrust\n",
        "- How do the answers change if you change the `time_increment`?"
      ]
    },
    {
      "cell_type": "code",
      "execution_count": null,
      "metadata": {},
      "outputs": [],
      "source": []
    }
  ],
  "metadata": {
    "kernelspec": {
      "display_name": "R",
      "language": "R",
      "name": "ir"
    },
    "language_info": {
      "codemirror_mode": "r",
      "file_extension": ".r",
      "mimetype": "text/x-r-source",
      "name": "R",
      "pygments_lexer": "r",
      "version": "3.6.1"
    }
  },
  "nbformat": 4,
  "nbformat_minor": 4
}