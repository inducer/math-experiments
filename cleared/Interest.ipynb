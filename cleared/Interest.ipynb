{
  "cells": [
    {
      "cell_type": "markdown",
      "metadata": {},
      "source": [
        "# Figuring Interest with Computers\n",
        "\n",
        "* In this notebook, we will learn to use R to compute the value over time of a balance of \\$1,000,000 that receives 6% interest, compounded monthly.\n",
        "* The little boxes you see all over this page are called \"cells\". They contain things that the computer can execute. To execute them, hold <kbd>Shift</kbd> while pressing <kbd>Enter</kbd>.\n",
        "* We will also experiment with how the value of the balance changes if we compound at different intervals.\n",
        "* This first cell adjusts some settings. Just hit <kbd>Shift</kbd>+<kbd>Enter</kbd> on it to have it take effect."
      ]
    },
    {
      "cell_type": "code",
      "execution_count": 1,
      "metadata": {},
      "outputs": [],
      "source": [
        "options(digits=9, repr.plot.width=5, repr.plot.height=4, scipen=5)"
      ]
    },
    {
      "cell_type": "markdown",
      "metadata": {},
      "source": [
        "## Like a Pocket Calculator\n",
        "\n",
        "* You can use the computer like a pocket calculator, just by entering formulas inside of a `print(...)` statement.\n",
        "* You can also see \"comments\" in action here. A comment is a piece of code that the computer just ignores. We use it to keep track of the number of months."
      ]
    },
    {
      "cell_type": "code",
      "execution_count": 2,
      "metadata": {},
      "outputs": [],
      "source": [
        "# after 1 month\n",
        "print(1000000 + 1000000 * 0.06 * (1/12))"
      ]
    },
    {
      "cell_type": "markdown",
      "metadata": {},
      "source": [
        "(You can disregard the `[1]` that is printed before the answer.)\n",
        "\n",
        "How much interest did you receive after just **one** month?"
      ]
    },
    {
      "cell_type": "code",
      "execution_count": 3,
      "metadata": {},
      "outputs": [],
      "source": [
        "# after 2 months\n",
        "print(1005000 + 1005000 * 0.06 * (1/12))"
      ]
    },
    {
      "cell_type": "markdown",
      "metadata": {},
      "source": [
        "Type code in each cell to carry this out for six more months, so that you know the value after eight months:"
      ]
    },
    {
      "cell_type": "code",
      "execution_count": 4,
      "metadata": {},
      "outputs": [],
      "source": []
    },
    {
      "cell_type": "code",
      "execution_count": 5,
      "metadata": {},
      "outputs": [],
      "source": []
    },
    {
      "cell_type": "code",
      "execution_count": 6,
      "metadata": {},
      "outputs": [],
      "source": []
    },
    {
      "cell_type": "code",
      "execution_count": 7,
      "metadata": {},
      "outputs": [],
      "source": []
    },
    {
      "cell_type": "code",
      "execution_count": 8,
      "metadata": {},
      "outputs": [],
      "source": []
    },
    {
      "cell_type": "code",
      "execution_count": 9,
      "metadata": {},
      "outputs": [],
      "source": []
    },
    {
      "cell_type": "markdown",
      "metadata": {},
      "source": [
        "But copy-pasting the last value from the output to the next input is boring and error-prone, worse because we have to do it twice. We can probably do better."
      ]
    },
    {
      "cell_type": "markdown",
      "metadata": {},
      "source": [
        "## Using Variables\n",
        "\n",
        "* To save results of previous calculations, we can use *variables*.\n",
        "* We can make up any name we want for them, as long as it consists of only letters (`a`-`z`, `A`-`Z`), numbers (`0`-`9`), and underscores (`_`). You should use no other symbols in your variable names.\n",
        "* The \"left arrow\" `<-` (\"less than\" and \"hyphen\") is computer-ese for \"assign the value on the right to the variable on the left\".\n",
        "* The values of variables \"survive\" from one cell to the next."
      ]
    },
    {
      "cell_type": "code",
      "execution_count": 10,
      "metadata": {},
      "outputs": [],
      "source": [
        "month0 <- 1000000"
      ]
    },
    {
      "cell_type": "code",
      "execution_count": 11,
      "metadata": {},
      "outputs": [],
      "source": [
        "month1 <- month0 + month0 * 0.06 * (1/12)"
      ]
    },
    {
      "cell_type": "markdown",
      "metadata": {},
      "source": [
        "We no longer get to see the value (because we saved it in a variable). We have to explicitly request to see it. We can do that like so:"
      ]
    },
    {
      "cell_type": "code",
      "execution_count": 12,
      "metadata": {},
      "outputs": [],
      "source": [
        "month1 <- month0 + month0 * 0.06 * (1/12)\n",
        "print(month1)"
      ]
    },
    {
      "cell_type": "code",
      "execution_count": 13,
      "metadata": {},
      "outputs": [],
      "source": [
        "month2 <- month1 + month1 * 0.06 * (1/12)\n",
        "print(month2)"
      ]
    },
    {
      "cell_type": "markdown",
      "metadata": {},
      "source": [
        "Carry this out for six more months, so that you can compare with your value after eight months from above:"
      ]
    },
    {
      "cell_type": "code",
      "execution_count": 14,
      "metadata": {},
      "outputs": [],
      "source": []
    },
    {
      "cell_type": "code",
      "execution_count": 15,
      "metadata": {},
      "outputs": [],
      "source": []
    },
    {
      "cell_type": "code",
      "execution_count": 16,
      "metadata": {},
      "outputs": [],
      "source": []
    },
    {
      "cell_type": "code",
      "execution_count": 17,
      "metadata": {},
      "outputs": [],
      "source": []
    },
    {
      "cell_type": "code",
      "execution_count": 18,
      "metadata": {},
      "outputs": [],
      "source": []
    },
    {
      "cell_type": "code",
      "execution_count": 19,
      "metadata": {},
      "outputs": [],
      "source": []
    },
    {
      "cell_type": "markdown",
      "metadata": {},
      "source": [
        "* Is this value the same as above? Exactly? Why?"
      ]
    },
    {
      "cell_type": "markdown",
      "metadata": {},
      "source": [
        "We now have *all* the values of the balance in computer memory at the same time. We can ask to see them all at once:"
      ]
    },
    {
      "cell_type": "code",
      "execution_count": 20,
      "metadata": {},
      "outputs": [],
      "source": [
        "print(month0)\n",
        "print(month1)\n",
        "print(month2)\n",
        "print(month3)\n",
        "print(month4)\n",
        "print(month5)\n",
        "print(month6)\n",
        "print(month7)\n",
        "print(month8)"
      ]
    },
    {
      "cell_type": "markdown",
      "metadata": {},
      "source": [
        "This is still boring and error prone. Can we do better still?"
      ]
    },
    {
      "cell_type": "markdown",
      "metadata": {},
      "source": [
        "## Using Variables that Change\n",
        "\n",
        "It turns out that we can *change* the value of a variable, even after we've already set it:"
      ]
    },
    {
      "cell_type": "code",
      "execution_count": 21,
      "metadata": {},
      "outputs": [],
      "source": [
        "balance <- 1000000\n",
        "print(balance)\n",
        "balance <- 1000000 + 1000000 * 0.06 * (1/12)\n",
        "print(balance)"
      ]
    },
    {
      "cell_type": "markdown",
      "metadata": {},
      "source": [
        "It's the value that was set last that counts. It turns out that that applies even *while* we're setting a new value of the same variable:"
      ]
    },
    {
      "cell_type": "code",
      "execution_count": 22,
      "metadata": {},
      "outputs": [],
      "source": [
        "balance <- 1000000\n",
        "print(balance)\n",
        "balance <- balance + balance * 0.06 * (1/12)\n",
        "print(balance)"
      ]
    },
    {
      "cell_type": "markdown",
      "metadata": {},
      "source": [
        "That means we can make this much less annoying to carry out, by copy-and-pasting the same line of code eight times.\n",
        "\n",
        "Use the cell above as a pattern to calculate the balance after eight months:"
      ]
    },
    {
      "cell_type": "code",
      "execution_count": 23,
      "metadata": {},
      "outputs": [],
      "source": []
    },
    {
      "cell_type": "markdown",
      "metadata": {},
      "source": [
        "* The value of `balance` changes throughout the calculation. Add `print` statements to see its value after each update.\n",
        "\n",
        "---\n",
        "We're still having to type the interest on every line. That's inconvenient if we would like to change it, to see what would happen if the interest rate or the compounding interval changes."
      ]
    },
    {
      "cell_type": "markdown",
      "metadata": {},
      "source": [
        "## Using Variables for More Things\n",
        "\n",
        "We can simply use variables for those things as well. Let's use these values.\n",
        "\n",
        "SET-UP:"
      ]
    },
    {
      "cell_type": "code",
      "execution_count": 24,
      "metadata": {},
      "outputs": [],
      "source": [
        "starting_balance <- 1000000\n",
        "interest_rate <- 0.06\n",
        "how_many_times_per_year <- 12"
      ]
    },
    {
      "cell_type": "markdown",
      "metadata": {},
      "source": [
        "Modify this snippet of code\n",
        "```\n",
        "balance <- 1000000\n",
        "\n",
        "balance <- balance + balance * 0.06*(1/12)\n",
        "balance <- balance + balance * 0.06*(1/12)\n",
        "...\n",
        "```\n",
        "to make use of our variables, and check that it still computes the same answer:\n",
        "\n",
        "COMPUTATION:"
      ]
    },
    {
      "cell_type": "code",
      "execution_count": 25,
      "metadata": {},
      "outputs": [],
      "source": []
    },
    {
      "cell_type": "markdown",
      "metadata": {},
      "source": [
        "Now use modified versions of the two cells above (\"SET-UP\" and \"COMPUTATION\") to figure what the balance is after eight months if interest is compounded six times a year (i.e. every two months):"
      ]
    },
    {
      "cell_type": "code",
      "execution_count": 26,
      "metadata": {},
      "outputs": [],
      "source": []
    },
    {
      "cell_type": "code",
      "execution_count": 27,
      "metadata": {},
      "outputs": [],
      "source": []
    },
    {
      "cell_type": "markdown",
      "metadata": {},
      "source": [
        "* How different is the result from monthly compounding?\n",
        "* Does that match what you expect?\n",
        "\n",
        "----\n",
        "\n",
        "It is sort of annoying that we can now easily change everything about the computation *except* how many times the compounding is carried out. But it turns out that there is a widget for that, too."
      ]
    },
    {
      "cell_type": "markdown",
      "metadata": {},
      "source": [
        "## Loops\n",
        "\n",
        "*   Type in\n",
        "    ```\n",
        "    for (i in 1:17) {\n",
        "        print(\"Hello\")\n",
        "    }\n",
        "    ```\n",
        "    and execute it. What happens?\n",
        "*   Change the `17` to a different value, and print two things per round of execution."
      ]
    },
    {
      "cell_type": "code",
      "execution_count": 28,
      "metadata": {},
      "outputs": [],
      "source": []
    },
    {
      "cell_type": "markdown",
      "metadata": {},
      "source": [
        "This is called a *loop*.\n",
        "\n",
        "* Use the loop pattern and plug in the compounding calculation for the *loop body*.\n",
        "* Combine three lines from the cell marked \"SET-UP\" together with the cell marked \"COMPUTATION\" and replace the repeated lines with a loop.\n",
        "* Make sure to print the `balance` after each update.\n",
        "* Check that you still compute the same result as above."
      ]
    },
    {
      "cell_type": "code",
      "execution_count": 29,
      "metadata": {},
      "outputs": [],
      "source": []
    },
    {
      "cell_type": "markdown",
      "metadata": {},
      "source": [
        "The \"how-many-times\" bit of a loop can also be a variable. We'll define a variable `how_many_times_per_year` to say how often interest is compounded each year.\n",
        "\n",
        "* Change the computation above to use it, making sure to keep the overall time to eight months.\n",
        "* Create a new variable `compoundings` to represent the number of times compounding happens.\n",
        "* Check that for \"once a month\" you still get the same answer as above.\n",
        "* Experiment with higher values of `how_many_times_per_year`"
      ]
    },
    {
      "cell_type": "code",
      "execution_count": 30,
      "metadata": {},
      "outputs": [],
      "source": [
        "how_many_times_per_year <- 12"
      ]
    },
    {
      "cell_type": "code",
      "execution_count": 31,
      "metadata": {},
      "outputs": [],
      "source": []
    },
    {
      "cell_type": "markdown",
      "metadata": {},
      "source": [
        "*   Does your modification do what you expect? How can you be sure? Can you be sure?\n",
        "*   Once you're confident that the code does what you expect, change the value of `how_many_times_per_year` to a very large number.\n",
        "    * How long does the computation take?\n",
        "    * What happens to the final balance? Does it keep growing with more frequent compounding? Can it become arbitrarily big?\n",
        "* How many years does it take to get to $2,000,000?\n",
        "\n",
        "To better understand and compare what happens to these values over time in different scenarios, it would be great if we could plot them in a graph."
      ]
    },
    {
      "cell_type": "markdown",
      "metadata": {},
      "source": [
        "## Containers and Plotting\n",
        "\n",
        "It would be nice if the computer could also draw a graph of the balance over time. To do that, we will need all the values of `balance` present at one time, not at different times. To do that, we can use a container. Those are created like so:"
      ]
    },
    {
      "cell_type": "code",
      "execution_count": 32,
      "metadata": {},
      "outputs": [],
      "source": [
        "c(100, 1300, 1500)"
      ]
    },
    {
      "cell_type": "markdown",
      "metadata": {},
      "source": [
        "We can also make names for them, just like numbers:"
      ]
    },
    {
      "cell_type": "code",
      "execution_count": 33,
      "metadata": {},
      "outputs": [],
      "source": [
        "data <- c(1000, 1300, 1500)\n",
        "data"
      ]
    },
    {
      "cell_type": "markdown",
      "metadata": {},
      "source": [
        "We can also add onto them very simply:"
      ]
    },
    {
      "cell_type": "code",
      "execution_count": 34,
      "metadata": {},
      "outputs": [],
      "source": [
        "data <- c(1000, 1300, 1500)\n",
        "c(data, 2000)"
      ]
    },
    {
      "cell_type": "markdown",
      "metadata": {},
      "source": [
        "The result of that operation can then be put back into a variable, including the same one:"
      ]
    },
    {
      "cell_type": "code",
      "execution_count": 35,
      "metadata": {},
      "outputs": [],
      "source": [
        "data <- c(1000, 1300, 1500)\n",
        "data <- c(data, 2000)\n",
        "\n",
        "data"
      ]
    },
    {
      "cell_type": "markdown",
      "metadata": {},
      "source": [
        "We can then ask the computer to plot the data in the container:"
      ]
    },
    {
      "cell_type": "code",
      "execution_count": 36,
      "metadata": {},
      "outputs": [],
      "source": [
        "plot(data)"
      ]
    },
    {
      "cell_type": "markdown",
      "metadata": {},
      "source": [
        "Change the latest version of your computation (the one with varying `how_many_times_per_year`) to include plotting by introducing a `balances` variable that is a container that gets filled up with all past balances. Make sure to include the first one!"
      ]
    },
    {
      "cell_type": "code",
      "execution_count": 37,
      "metadata": {},
      "outputs": [],
      "source": []
    },
    {
      "cell_type": "markdown",
      "metadata": {},
      "source": [
        "It is a little annoying that the labeling of the x-axis is just the \"Index\", i.e. the number of the entry in the container. Fortunately, we can fix that by passing *another* container (that has to have the same length as the first one) that includes x-axis positions:\n",
        "\n",
        "**Note** that the x-axis positions often do but do not *have to* have equal spacing!"
      ]
    },
    {
      "cell_type": "code",
      "execution_count": 38,
      "metadata": {},
      "outputs": [],
      "source": [
        "xpos <- c(1, 3, 10, 20)\n",
        "\n",
        "data <- c(1000, 1300, 1500)\n",
        "data <- c(data, 2000)\n",
        "\n",
        "plot(xpos, data)"
      ]
    },
    {
      "cell_type": "markdown",
      "metadata": {},
      "source": [
        "* Modify your computation from above to also keep track of time, and\n",
        "* Add code to build a container `months` that, at the end, has the same number of entries as `balances` that keeps track of the time in months."
      ]
    },
    {
      "cell_type": "code",
      "execution_count": 39,
      "metadata": {},
      "outputs": [],
      "source": []
    },
    {
      "cell_type": "markdown",
      "metadata": {},
      "source": [
        "* Does the graph you obtain look like an exponential function? Should it?\n",
        "* What happens if you let the computation run for more months? 10 years? 20 years?\n",
        "* How does the final balance change if you modify the number of compoundings?\n",
        "* How many individual compounding steps has the computer taken for a 20-year, every-two-month compunding calculation?"
      ]
    },
    {
      "cell_type": "code",
      "execution_count": 40,
      "metadata": {},
      "outputs": [],
      "source": []
    },
    {
      "cell_type": "markdown",
      "metadata": {},
      "source": [
        "## Computing Slopes\n",
        "\n",
        "Now we have all values of balances and times computed and stored in the variables `balances` and `months`. These variables aren't just useful for plotting, we can also compute with them.\n",
        "\n",
        "To do that, we need to be fish the numbered values out of these variables. Fortunately, this is easy:"
      ]
    },
    {
      "cell_type": "code",
      "execution_count": 41,
      "metadata": {},
      "outputs": [],
      "source": [
        "balances[1]"
      ]
    },
    {
      "cell_type": "code",
      "execution_count": 42,
      "metadata": {},
      "outputs": [],
      "source": [
        "balances[3]"
      ]
    },
    {
      "cell_type": "code",
      "execution_count": 43,
      "metadata": {},
      "outputs": [],
      "source": [
        "months[5]"
      ]
    },
    {
      "cell_type": "markdown",
      "metadata": {},
      "source": [
        "This works well when combined with loops. Use a loop to print all the `balances`:"
      ]
    },
    {
      "cell_type": "code",
      "execution_count": 44,
      "metadata": {},
      "outputs": [],
      "source": []
    },
    {
      "cell_type": "markdown",
      "metadata": {},
      "source": [
        "* Make sure you print *all* the balances. There should be `compoundings+1` values in `balances`.\n",
        "\n",
        "----\n",
        "\n",
        "Now, we can use the same code idea to compute the *slope* (rise over run!) of the balance over time. To do that, compute\n",
        "\n",
        "$\\displaystyle\\frac{\\text{balances[i+1]}-\\text{balances[i]}}{\\frac1{12}\\left(\\text{months[i+1]}-\\text{months[i]}\\right)}$\n",
        "\n",
        "for all applicable values of `i`.\n",
        "\n",
        "* Does the number of rounds of the loop need to change?\n",
        "* Compute your run in units of years (not months), i.e. divide it by 12.\n",
        "* Compare (by subtracting and printing) the slope with `interest_rate * balances[i]`.\n",
        "* You should see that the *slope* of the balance equals the balance times the interest rate, at every compounding. Such relationships between slope of a quantity and the quantity itself are not at all uncommon."
      ]
    },
    {
      "cell_type": "code",
      "execution_count": 45,
      "metadata": {},
      "outputs": [],
      "source": []
    },
    {
      "cell_type": "code",
      "execution_count": null,
      "metadata": {},
      "outputs": [],
      "source": []
    }
  ],
  "metadata": {
    "kernelspec": {
      "display_name": "R",
      "language": "R",
      "name": "ir"
    },
    "language_info": {
      "codemirror_mode": "r",
      "file_extension": ".r",
      "mimetype": "text/x-r-source",
      "name": "R",
      "pygments_lexer": "r",
      "version": "3.6.1"
    }
  },
  "nbformat": 4,
  "nbformat_minor": 4
}