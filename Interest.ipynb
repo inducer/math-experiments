{
 "cells": [
  {
   "cell_type": "markdown",
   "metadata": {},
   "source": [
    "# Figuring Interest with Computers\n",
    "\n",
    "* In this notebook, we will learn to use R to compute the value over time of a balance of \\$1,000,000 that receives 6% interest, compounded monthly.\n",
    "* The little boxes you see all over this page are called \"cells\". They contain things that the computer can execute. To execute them, hold <kbd>Shift</kbd> while pressing <kbd>Enter</kbd>.\n",
    "* We will also experiment with how the value of the balance changes if we compound at different intervals.\n",
    "* This first cell adjusts some settings. Just hit <kbd>Shift</kbd>+<kbd>Enter</kbd> on it to have it take effect."
   ]
  },
  {
   "cell_type": "code",
   "execution_count": 11,
   "metadata": {},
   "outputs": [],
   "source": [
    "options(digits=9, repr.plot.width=5, repr.plot.height=4)"
   ]
  },
  {
   "cell_type": "markdown",
   "metadata": {},
   "source": [
    "## Like a Pocket Calculator\n",
    "\n",
    "* You can use the computer like a pocket calculator, just by entering formulas inside of a `print(...)` statement.\n",
    "* You can also see \"comments\" in action here. A comment is a piece of code that the computer just ignores. We use it to keep track of the number of months."
   ]
  },
  {
   "cell_type": "code",
   "execution_count": 12,
   "metadata": {},
   "outputs": [
    {
     "name": "stdout",
     "output_type": "stream",
     "text": [
      "[1] 1005000\n"
     ]
    }
   ],
   "source": [
    "# after 1 month\n",
    "print(1000000 + 1000000 * 0.06/12)"
   ]
  },
  {
   "cell_type": "markdown",
   "metadata": {},
   "source": [
    "(You can disregard the `[1]` that is printed before the answer.)"
   ]
  },
  {
   "cell_type": "code",
   "execution_count": 13,
   "metadata": {},
   "outputs": [
    {
     "name": "stdout",
     "output_type": "stream",
     "text": [
      "[1] 1010025\n"
     ]
    }
   ],
   "source": [
    "# after 2 months\n",
    "print(1005000 + 1005000 * 0.06/12)"
   ]
  },
  {
   "cell_type": "markdown",
   "metadata": {},
   "source": [
    "Carry this out for six more months, so that you know the value after eight months:"
   ]
  },
  {
   "cell_type": "code",
   "execution_count": 14,
   "metadata": {},
   "outputs": [
    {
     "name": "stdout",
     "output_type": "stream",
     "text": [
      "[1] 1015075.12\n"
     ]
    }
   ],
   "source": [
    "#clear\n",
    "# after 3 months\n",
    "print(1010025 + 1010025 * 0.06/12)\n",
    "\n",
    "# (We're using \"print\" to get consistent display/rounding between here and the version below.)"
   ]
  },
  {
   "cell_type": "code",
   "execution_count": 15,
   "metadata": {},
   "outputs": [
    {
     "name": "stdout",
     "output_type": "stream",
     "text": [
      "[1] 1020150.5\n"
     ]
    }
   ],
   "source": [
    "#clear\n",
    "# after 4 months\n",
    "print(1015075.12 + 1015075.12 * 0.06/12)"
   ]
  },
  {
   "cell_type": "code",
   "execution_count": 16,
   "metadata": {},
   "outputs": [
    {
     "name": "stdout",
     "output_type": "stream",
     "text": [
      "[1] 1025251.25\n"
     ]
    }
   ],
   "source": [
    "#clear\n",
    "# after 5 months\n",
    "print(1020150.5 + 1020150.5 * 0.06/12)"
   ]
  },
  {
   "cell_type": "code",
   "execution_count": 17,
   "metadata": {},
   "outputs": [
    {
     "name": "stdout",
     "output_type": "stream",
     "text": [
      "[1] 1030377.51\n"
     ]
    }
   ],
   "source": [
    "#clear\n",
    "# after 6 months\n",
    "print(1025251.25 + 1025251.25 * 0.06/12)"
   ]
  },
  {
   "cell_type": "code",
   "execution_count": 18,
   "metadata": {},
   "outputs": [
    {
     "name": "stdout",
     "output_type": "stream",
     "text": [
      "[1] 1035529.4\n"
     ]
    }
   ],
   "source": [
    "#clear\n",
    "# after 7 months\n",
    "print(1030377.51 + 1030377.51 * 0.06/12)"
   ]
  },
  {
   "cell_type": "code",
   "execution_count": 19,
   "metadata": {},
   "outputs": [
    {
     "name": "stdout",
     "output_type": "stream",
     "text": [
      "[1] 1040707.05\n"
     ]
    }
   ],
   "source": [
    "#clear\n",
    "# after 8 months\n",
    "print(1035529.4 + 1035529.4 * 0.06/12)"
   ]
  },
  {
   "cell_type": "markdown",
   "metadata": {},
   "source": [
    "But copy-pasting the last value from the output to the next input is boring and error-prone, worse because we have to do it twice. We can probably do better."
   ]
  },
  {
   "cell_type": "markdown",
   "metadata": {},
   "source": [
    "## Using Variables\n",
    "\n",
    "* To save results of previous calculations, we can use *variables*.\n",
    "* We can make up any name we want for them, as long as it consists of only letters (`a`-`z`, `A`-`Z`), numbers (`0`-`9`), and underscores (`_`). You should use no other symbols in your variable names.\n",
    "* The values of variables \"survive\" from one cell to the next."
   ]
  },
  {
   "cell_type": "code",
   "execution_count": 20,
   "metadata": {},
   "outputs": [],
   "source": [
    "month0 <- 1000000"
   ]
  },
  {
   "cell_type": "code",
   "execution_count": 21,
   "metadata": {},
   "outputs": [],
   "source": [
    "month1 <- month0 + month0 * 0.06/12"
   ]
  },
  {
   "cell_type": "markdown",
   "metadata": {},
   "source": [
    "We no longer get to see the value (because we saved it in a variable). We have to explicitly request to see it. We can do that like so:"
   ]
  },
  {
   "cell_type": "code",
   "execution_count": 22,
   "metadata": {},
   "outputs": [
    {
     "name": "stdout",
     "output_type": "stream",
     "text": [
      "[1] 1005000\n"
     ]
    }
   ],
   "source": [
    "month1 <- month0 + month0 * 0.06/12\n",
    "print(month1)"
   ]
  },
  {
   "cell_type": "code",
   "execution_count": 23,
   "metadata": {},
   "outputs": [
    {
     "name": "stdout",
     "output_type": "stream",
     "text": [
      "[1] 1010025\n"
     ]
    }
   ],
   "source": [
    "month2 <- month1 + month1 * 0.06/12\n",
    "print(month2)"
   ]
  },
  {
   "cell_type": "markdown",
   "metadata": {},
   "source": [
    "Carry this out for six more months, so that you can compare with your value after eight months from above:"
   ]
  },
  {
   "cell_type": "code",
   "execution_count": 24,
   "metadata": {},
   "outputs": [
    {
     "name": "stdout",
     "output_type": "stream",
     "text": [
      "[1] 1015075.12\n"
     ]
    }
   ],
   "source": [
    "#clear\n",
    "month3 <- month2 + month2 * 0.06/12\n",
    "print(month3)"
   ]
  },
  {
   "cell_type": "code",
   "execution_count": 25,
   "metadata": {},
   "outputs": [
    {
     "name": "stdout",
     "output_type": "stream",
     "text": [
      "[1] 1020150.5\n"
     ]
    }
   ],
   "source": [
    "#clear\n",
    "month4 <- month3 + month3 * 0.06/12\n",
    "print(month4)"
   ]
  },
  {
   "cell_type": "code",
   "execution_count": 26,
   "metadata": {},
   "outputs": [
    {
     "name": "stdout",
     "output_type": "stream",
     "text": [
      "[1] 1025251.25\n"
     ]
    }
   ],
   "source": [
    "#clear\n",
    "month5 <- month4 + month4 * 0.06/12\n",
    "print(month5)"
   ]
  },
  {
   "cell_type": "code",
   "execution_count": 27,
   "metadata": {},
   "outputs": [
    {
     "name": "stdout",
     "output_type": "stream",
     "text": [
      "[1] 1030377.51\n"
     ]
    }
   ],
   "source": [
    "#clear\n",
    "month6 <- month5 + month5 * 0.06/12\n",
    "print(month6)"
   ]
  },
  {
   "cell_type": "code",
   "execution_count": 28,
   "metadata": {},
   "outputs": [
    {
     "name": "stdout",
     "output_type": "stream",
     "text": [
      "[1] 1035529.4\n"
     ]
    }
   ],
   "source": [
    "#clear\n",
    "month7 <- month6 + month6 * 0.06/12\n",
    "print(month7)"
   ]
  },
  {
   "cell_type": "code",
   "execution_count": 29,
   "metadata": {},
   "outputs": [
    {
     "name": "stdout",
     "output_type": "stream",
     "text": [
      "[1] 1040707.04\n"
     ]
    }
   ],
   "source": [
    "#clear\n",
    "month8 <- month7 + month7 * 0.06/12\n",
    "print(month8)"
   ]
  },
  {
   "cell_type": "markdown",
   "metadata": {},
   "source": [
    "* Is this value the same as above? Exactly? Why?"
   ]
  },
  {
   "cell_type": "markdown",
   "metadata": {},
   "source": [
    "We now have *all* the values of the balance in computer memory at the same time. We can ask to see them all at once:"
   ]
  },
  {
   "cell_type": "code",
   "execution_count": 30,
   "metadata": {},
   "outputs": [
    {
     "name": "stdout",
     "output_type": "stream",
     "text": [
      "[1] 1e+06\n",
      "[1] 1005000\n",
      "[1] 1010025\n",
      "[1] 1015075.12\n",
      "[1] 1020150.5\n",
      "[1] 1025251.25\n",
      "[1] 1030377.51\n",
      "[1] 1035529.4\n",
      "[1] 1040707.04\n"
     ]
    }
   ],
   "source": [
    "print(month0)\n",
    "print(month1)\n",
    "print(month2)\n",
    "print(month3)\n",
    "print(month4)\n",
    "print(month5)\n",
    "print(month6)\n",
    "print(month7)\n",
    "print(month8)"
   ]
  },
  {
   "cell_type": "markdown",
   "metadata": {},
   "source": [
    "This is still boring and error prone. Can we do better still?"
   ]
  },
  {
   "cell_type": "markdown",
   "metadata": {},
   "source": [
    "## Using Variables that Change\n",
    "\n",
    "It turns out that we can *change* the value of a variable, even after we've already set it:"
   ]
  },
  {
   "cell_type": "code",
   "execution_count": 31,
   "metadata": {},
   "outputs": [
    {
     "name": "stdout",
     "output_type": "stream",
     "text": [
      "[1] 1e+06\n",
      "[1] 1005000\n"
     ]
    }
   ],
   "source": [
    "balance <- 1000000\n",
    "print(balance)\n",
    "balance <- 1000000 + 1000000 * 0.06/12\n",
    "print(balance)"
   ]
  },
  {
   "cell_type": "markdown",
   "metadata": {},
   "source": [
    "It's the value that was set last that counts. It turns out that that applies even *while* we're setting a new value of the same variable:"
   ]
  },
  {
   "cell_type": "code",
   "execution_count": 32,
   "metadata": {},
   "outputs": [
    {
     "name": "stdout",
     "output_type": "stream",
     "text": [
      "[1] 1e+06\n",
      "[1] 1005000\n"
     ]
    }
   ],
   "source": [
    "balance <- 1000000\n",
    "print(balance)\n",
    "balance <- balance + balance * 0.06/12\n",
    "print(balance)"
   ]
  },
  {
   "cell_type": "markdown",
   "metadata": {},
   "source": [
    "That means we can make this much less annoying to carry out, using copy-and-paste. Use the cell above as a pattern to calculate the balance after eight months:"
   ]
  },
  {
   "cell_type": "code",
   "execution_count": 33,
   "metadata": {},
   "outputs": [
    {
     "name": "stdout",
     "output_type": "stream",
     "text": [
      "[1] 1040707.04\n"
     ]
    }
   ],
   "source": [
    "#clear\n",
    "balance <- 1000000\n",
    "\n",
    "balance <- balance + balance * 0.06/12\n",
    "balance <- balance + balance * 0.06/12\n",
    "balance <- balance + balance * 0.06/12\n",
    "balance <- balance + balance * 0.06/12\n",
    "\n",
    "balance <- balance + balance * 0.06/12\n",
    "balance <- balance + balance * 0.06/12\n",
    "balance <- balance + balance * 0.06/12\n",
    "balance <- balance + balance * 0.06/12\n",
    "\n",
    "print(balance)"
   ]
  },
  {
   "cell_type": "markdown",
   "metadata": {},
   "source": [
    "* The value of `balance` changes throughout the calculation. Add `print` statements to see its value after each update.\n",
    "\n",
    "---\n",
    "We're still having to type the interest on every line. That's inconvenient if we would like to change it, to see what would happen if the interest rate or the compounding interval changes."
   ]
  },
  {
   "cell_type": "markdown",
   "metadata": {},
   "source": [
    "## Using Variables for More Things\n",
    "\n",
    "We can simply use variables for those things as well. Let's use these values.\n",
    "\n",
    "SET-UP:"
   ]
  },
  {
   "cell_type": "code",
   "execution_count": 34,
   "metadata": {},
   "outputs": [],
   "source": [
    "starting_balance <- 1000000\n",
    "interest_rate <- 0.06\n",
    "compounding_interval <- (1/12)"
   ]
  },
  {
   "cell_type": "markdown",
   "metadata": {},
   "source": [
    "Modify the snippet of code from above to make use of these variables, and check that it still computes the same answer:\n",
    "\n",
    "COMPUTATION:"
   ]
  },
  {
   "cell_type": "code",
   "execution_count": 35,
   "metadata": {},
   "outputs": [
    {
     "name": "stdout",
     "output_type": "stream",
     "text": [
      "[1] 1040707.04\n"
     ]
    }
   ],
   "source": [
    "#clear\n",
    "\n",
    "balance <- starting_balance\n",
    "\n",
    "balance <- balance + balance * interest_rate * compounding_interval\n",
    "balance <- balance + balance * interest_rate * compounding_interval\n",
    "balance <- balance + balance * interest_rate * compounding_interval\n",
    "balance <- balance + balance * interest_rate * compounding_interval\n",
    "\n",
    "balance <- balance + balance * interest_rate * compounding_interval\n",
    "balance <- balance + balance * interest_rate * compounding_interval\n",
    "balance <- balance + balance * interest_rate * compounding_interval\n",
    "balance <- balance + balance * interest_rate * compounding_interval\n",
    "\n",
    "print(balance)"
   ]
  },
  {
   "cell_type": "markdown",
   "metadata": {},
   "source": [
    "Now use modified versions of the two cells above (\"SET-UP\" and \"COMPUTATION\") to figure what the balance is after eight months if interest is compounded six times a year (i.e. every two months):"
   ]
  },
  {
   "cell_type": "code",
   "execution_count": 36,
   "metadata": {},
   "outputs": [],
   "source": [
    "#clear\n",
    "starting_balance <- 100000\n",
    "interest_rate <- 0.06\n",
    "compounding_interval <- (1/6)"
   ]
  },
  {
   "cell_type": "code",
   "execution_count": 37,
   "metadata": {},
   "outputs": [
    {
     "name": "stdout",
     "output_type": "stream",
     "text": [
      "[1] 104060.401\n"
     ]
    }
   ],
   "source": [
    "#clear\n",
    "balance <- starting_balance\n",
    "\n",
    "balance <- balance + balance * interest_rate * compounding_interval\n",
    "balance <- balance + balance * interest_rate * compounding_interval\n",
    "balance <- balance + balance * interest_rate * compounding_interval\n",
    "balance <- balance + balance * interest_rate * compounding_interval\n",
    "\n",
    "print(balance)"
   ]
  },
  {
   "cell_type": "markdown",
   "metadata": {},
   "source": [
    "* How different is the result from monthly compounding?\n",
    "* Does that match what you expect?\n",
    "\n",
    "----\n",
    "\n",
    "It is sort of annoying that we can now easily change everything about the computation *except* how often the compounding is carried out. But it turns out that there is a widget for that, too."
   ]
  },
  {
   "cell_type": "markdown",
   "metadata": {},
   "source": [
    "## Loops\n",
    "\n",
    "*   Type in\n",
    "    ```\n",
    "    for (i in 1:17) {\n",
    "        print(\"Hello\")\n",
    "    }\n",
    "    ```\n",
    "    and execute it. What happens?\n",
    "*   Change the `17` to a different value, and print two things per round of execution."
   ]
  },
  {
   "cell_type": "code",
   "execution_count": 38,
   "metadata": {},
   "outputs": [
    {
     "name": "stdout",
     "output_type": "stream",
     "text": [
      "[1] \"Hello\"\n",
      "[1] \"there!\"\n",
      "[1] \"Hello\"\n",
      "[1] \"there!\"\n",
      "[1] \"Hello\"\n",
      "[1] \"there!\"\n",
      "[1] \"Hello\"\n",
      "[1] \"there!\"\n",
      "[1] \"Hello\"\n",
      "[1] \"there!\"\n"
     ]
    }
   ],
   "source": [
    "#clear\n",
    "for (i in 1:5) {\n",
    "    print(\"Hello\")\n",
    "    print(\"there!\")\n",
    "}"
   ]
  },
  {
   "cell_type": "markdown",
   "metadata": {},
   "source": [
    "This is called a *loop*.\n",
    "\n",
    "* Use the loop pattern and plug in the compounding calculation for the *loop body*.\n",
    "* Combine three lines from the cell marked \"SET-UP\" together with the cell marked \"COMPUTATION\" and replace the repeated lines with a loop.\n",
    "* Make sure to print the `balance` after each update.\n",
    "* Check that you still compute the same result as above."
   ]
  },
  {
   "cell_type": "code",
   "execution_count": 39,
   "metadata": {},
   "outputs": [
    {
     "name": "stdout",
     "output_type": "stream",
     "text": [
      "[1] 1005000\n",
      "[1] 1010025\n",
      "[1] 1015075.12\n",
      "[1] 1020150.5\n",
      "[1] 1025251.25\n",
      "[1] 1030377.51\n",
      "[1] 1035529.4\n",
      "[1] 1040707.04\n"
     ]
    }
   ],
   "source": [
    "#clear\n",
    "starting_balance <- 1000000\n",
    "interest_rate <- 0.06\n",
    "compounding_interval <- (1/12)\n",
    "\n",
    "balance <- starting_balance\n",
    "\n",
    "for (i in 1:8) {\n",
    "    balance <- balance + balance * interest_rate * compounding_interval\n",
    "    print(balance)\n",
    "}"
   ]
  },
  {
   "cell_type": "markdown",
   "metadata": {},
   "source": [
    "The \"how-often\" bit of a loop can also be a variable. We'll define a variable `how_often_per_year` to say how often interest is compounded each year.\n",
    "\n",
    "* Change the computation above to use it, making sure to keep the overall time to eight months.\n",
    "* Create a new variable `compoundings` to represent the number of times compounding happens.\n",
    "* Check that for \"once a month\" you still get the same answer as above.\n",
    "* Experiment with higher values of `how_often_per_year`"
   ]
  },
  {
   "cell_type": "code",
   "execution_count": 40,
   "metadata": {},
   "outputs": [],
   "source": [
    "how_often_per_year <- 12"
   ]
  },
  {
   "cell_type": "code",
   "execution_count": 41,
   "metadata": {},
   "outputs": [
    {
     "name": "stdout",
     "output_type": "stream",
     "text": [
      "[1] 1005000\n",
      "[1] 1010025\n",
      "[1] 1015075.12\n",
      "[1] 1020150.5\n",
      "[1] 1025251.25\n",
      "[1] 1030377.51\n",
      "[1] 1035529.4\n",
      "[1] 1040707.04\n"
     ]
    }
   ],
   "source": [
    "#clear\n",
    "starting_balance <- 1000000\n",
    "interest_rate <- 0.06\n",
    "compounding_interval <- 1/how_often_per_year\n",
    "\n",
    "balance <- starting_balance\n",
    "\n",
    "compoundings <- (8 / 12) * how_often_per_year  # run for eight months\n",
    "for (i in 1:compoundings) {\n",
    "    balance <- balance + balance * interest_rate * compounding_interval\n",
    "    print(balance)\n",
    "}"
   ]
  },
  {
   "cell_type": "markdown",
   "metadata": {},
   "source": [
    "*   Does your modification do what you expect? How can you be sure? Can you be sure?\n",
    "*   Once you're confident that the code does what you expect, change the value of `how_often_per_year` to a very large number.\n",
    "    * How long does the computation take?\n",
    "    * What happens to the final balance? Does it keep growing with more frequent compounding? Can it become arbitrarily big?\n",
    "\n",
    "To better understand and compare what happens to these values over time in different scenarios, it would be great if we could plot them in a graph."
   ]
  },
  {
   "cell_type": "markdown",
   "metadata": {},
   "source": [
    "## Containers and Plotting\n",
    "\n",
    "It would be nice if the computer could also draw a graph of the balance over time. To do that, we will need all the values of `balance` present at one time, not at different times. To do that, we can use a container. Those are created like so:"
   ]
  },
  {
   "cell_type": "code",
   "execution_count": 42,
   "metadata": {},
   "outputs": [
    {
     "data": {
      "text/html": [
       "<ol class=list-inline>\n",
       "\t<li>100</li>\n",
       "\t<li>1300</li>\n",
       "\t<li>1500</li>\n",
       "</ol>\n"
      ],
      "text/latex": [
       "\\begin{enumerate*}\n",
       "\\item 100\n",
       "\\item 1300\n",
       "\\item 1500\n",
       "\\end{enumerate*}\n"
      ],
      "text/markdown": [
       "1. 100\n",
       "2. 1300\n",
       "3. 1500\n",
       "\n",
       "\n"
      ],
      "text/plain": [
       "[1]  100 1300 1500"
      ]
     },
     "metadata": {},
     "output_type": "display_data"
    }
   ],
   "source": [
    "c(100, 1300, 1500)"
   ]
  },
  {
   "cell_type": "markdown",
   "metadata": {},
   "source": [
    "We can also make names for them, just like numbers:"
   ]
  },
  {
   "cell_type": "code",
   "execution_count": 43,
   "metadata": {},
   "outputs": [
    {
     "data": {
      "text/html": [
       "<ol class=list-inline>\n",
       "\t<li>1000</li>\n",
       "\t<li>1300</li>\n",
       "\t<li>1500</li>\n",
       "</ol>\n"
      ],
      "text/latex": [
       "\\begin{enumerate*}\n",
       "\\item 1000\n",
       "\\item 1300\n",
       "\\item 1500\n",
       "\\end{enumerate*}\n"
      ],
      "text/markdown": [
       "1. 1000\n",
       "2. 1300\n",
       "3. 1500\n",
       "\n",
       "\n"
      ],
      "text/plain": [
       "[1] 1000 1300 1500"
      ]
     },
     "metadata": {},
     "output_type": "display_data"
    }
   ],
   "source": [
    "data <- c(1000, 1300, 1500)\n",
    "data"
   ]
  },
  {
   "cell_type": "markdown",
   "metadata": {},
   "source": [
    "We can also add onto them very simply:"
   ]
  },
  {
   "cell_type": "code",
   "execution_count": 44,
   "metadata": {},
   "outputs": [
    {
     "data": {
      "text/html": [
       "<ol class=list-inline>\n",
       "\t<li>1000</li>\n",
       "\t<li>1300</li>\n",
       "\t<li>1500</li>\n",
       "\t<li>2000</li>\n",
       "</ol>\n"
      ],
      "text/latex": [
       "\\begin{enumerate*}\n",
       "\\item 1000\n",
       "\\item 1300\n",
       "\\item 1500\n",
       "\\item 2000\n",
       "\\end{enumerate*}\n"
      ],
      "text/markdown": [
       "1. 1000\n",
       "2. 1300\n",
       "3. 1500\n",
       "4. 2000\n",
       "\n",
       "\n"
      ],
      "text/plain": [
       "[1] 1000 1300 1500 2000"
      ]
     },
     "metadata": {},
     "output_type": "display_data"
    }
   ],
   "source": [
    "data <- c(1000, 1300, 1500)\n",
    "c(data, 2000)"
   ]
  },
  {
   "cell_type": "markdown",
   "metadata": {},
   "source": [
    "The result of that operation can then be put back into a variable, including the same one:"
   ]
  },
  {
   "cell_type": "code",
   "execution_count": 186,
   "metadata": {},
   "outputs": [
    {
     "data": {
      "text/html": [
       "<ol class=list-inline>\n",
       "\t<li>1000</li>\n",
       "\t<li>1300</li>\n",
       "\t<li>1500</li>\n",
       "\t<li>2000</li>\n",
       "</ol>\n"
      ],
      "text/latex": [
       "\\begin{enumerate*}\n",
       "\\item 1000\n",
       "\\item 1300\n",
       "\\item 1500\n",
       "\\item 2000\n",
       "\\end{enumerate*}\n"
      ],
      "text/markdown": [
       "1. 1000\n",
       "2. 1300\n",
       "3. 1500\n",
       "4. 2000\n",
       "\n",
       "\n"
      ],
      "text/plain": [
       "[1] 1000 1300 1500 2000"
      ]
     },
     "metadata": {},
     "output_type": "display_data"
    }
   ],
   "source": [
    "data <- c(1000, 1300, 1500)\n",
    "data <- c(data, 2000)\n",
    "\n",
    "data"
   ]
  },
  {
   "cell_type": "markdown",
   "metadata": {},
   "source": [
    "We can then ask the computer to plot the data in the container:"
   ]
  },
  {
   "cell_type": "code",
   "execution_count": 187,
   "metadata": {},
   "outputs": [
    {
     "data": {
      "image/png": "[encoded data removed]",
      "text/plain": [
       "plot without title"
      ]
     },
     "metadata": {},
     "output_type": "display_data"
    }
   ],
   "source": [
    "plot(data)"
   ]
  },
  {
   "cell_type": "markdown",
   "metadata": {},
   "source": [
    "Change the latest version of your computation (the one with varying `how_often_per_year`) to include plotting by introducing a `balances` variable that is a container that gets filled up with all past balances. Make sure to include the first one!"
   ]
  },
  {
   "cell_type": "code",
   "execution_count": 45,
   "metadata": {},
   "outputs": [
    {
     "data": {
      "image/png": "[encoded data removed]",
      "text/plain": [
       "plot without title"
      ]
     },
     "metadata": {},
     "output_type": "display_data"
    }
   ],
   "source": [
    "#clear\n",
    "how_often_per_year <- 12\n",
    "starting_balance <- 1000000\n",
    "interest_rate <- 0.06\n",
    "compounding_interval <- 1/how_often_per_year\n",
    "\n",
    "balance <- starting_balance\n",
    "balances <- c(starting_balance)\n",
    "\n",
    "compoundings <- (8 / 12) * how_often_per_year  # run for eight months\n",
    "for (i in 1:compoundings) {\n",
    "    balance <- balance + balance * interest_rate * compounding_interval\n",
    "    balances <- c(balances, balance)\n",
    "}\n",
    "\n",
    "plot(balances)"
   ]
  },
  {
   "cell_type": "markdown",
   "metadata": {},
   "source": [
    "It is a little annoying that the labeling of the x-axis is just the \"Index\", i.e. the number of the entry in the container. Fortunately, we can fix that by passing *another* container (that has to have the same length as the first one) that includes x-axis positions:\n",
    "\n",
    "**Note** that the x-axis positions often do but do not *have to* have equal spacing!"
   ]
  },
  {
   "cell_type": "code",
   "execution_count": 46,
   "metadata": {},
   "outputs": [
    {
     "data": {
      "image/png": "[encoded data removed]",
      "text/plain": [
       "plot without title"
      ]
     },
     "metadata": {},
     "output_type": "display_data"
    }
   ],
   "source": [
    "xpos <- c(1, 3, 10, 20)\n",
    "\n",
    "data <- c(1000, 1300, 1500)\n",
    "data <- c(data, 2000)\n",
    "\n",
    "plot(xpos, data)"
   ]
  },
  {
   "cell_type": "markdown",
   "metadata": {},
   "source": [
    "* Modify your computation from above to also keep track of time, and\n",
    "* Add code to build a container `months` that, at the end, has the same number of entries as `balances` that keeps track of the time in months."
   ]
  },
  {
   "cell_type": "code",
   "execution_count": 66,
   "metadata": {},
   "outputs": [
    {
     "data": {
      "image/png": "[encoded data removed]",
      "text/plain": [
       "plot without title"
      ]
     },
     "metadata": {},
     "output_type": "display_data"
    }
   ],
   "source": [
    "#clear\n",
    "how_often_per_year <- 6\n",
    "starting_balance <- 1000000\n",
    "interest_rate <- 0.06\n",
    "compounding_interval <- 1/how_often_per_year\n",
    "\n",
    "balance <- starting_balance\n",
    "balances <- c(starting_balance)\n",
    "month <- 0\n",
    "months <- c(0)\n",
    "\n",
    "compoundings <- 20 * how_often_per_year\n",
    "for (i in 1:compoundings) {\n",
    "    balance <- balance + balance * interest_rate * compounding_interval\n",
    "    balances <- c(balances, balance)\n",
    "    month <- month + 12/how_often_per_year\n",
    "    months <- c(months, month)\n",
    "}\n",
    "\n",
    "plot(months, balances)\n",
    "\n",
    "# FIXME: Is this too big a jump?"
   ]
  },
  {
   "cell_type": "markdown",
   "metadata": {},
   "source": [
    "* Does the graph you obtain look like an exponential function? Should it?\n",
    "* What happens if you let the computation run for more months? 10 years? 20 years?\n",
    "* How does the final balance change if you modify the number of compoundings?\n",
    "* How many individual compounding steps has the computer taken for a 20-year, every-two-month compunding calculation?"
   ]
  },
  {
   "cell_type": "code",
   "execution_count": 67,
   "metadata": {},
   "outputs": [
    {
     "data": {
      "text/html": [
       "120"
      ],
      "text/latex": [
       "120"
      ],
      "text/markdown": [
       "120"
      ],
      "text/plain": [
       "[1] 120"
      ]
     },
     "metadata": {},
     "output_type": "display_data"
    }
   ],
   "source": [
    "#clear\n",
    "20*6"
   ]
  },
  {
   "cell_type": "markdown",
   "metadata": {},
   "source": [
    "## Computing Slopes\n",
    "\n",
    "Now that we have balances and times computed and stored in the variables `balances` and `months`, we can check that our slope calculation was correct, by computing rise over run. To do that, we need to be fish the numbered values out of these variables. Fortunately, this is easy:"
   ]
  },
  {
   "cell_type": "code",
   "execution_count": 68,
   "metadata": {},
   "outputs": [
    {
     "data": {
      "text/html": [
       "1e+06"
      ],
      "text/latex": [
       "1e+06"
      ],
      "text/markdown": [
       "1e+06"
      ],
      "text/plain": [
       "[1] 1e+06"
      ]
     },
     "metadata": {},
     "output_type": "display_data"
    }
   ],
   "source": [
    "balances[1]"
   ]
  },
  {
   "cell_type": "code",
   "execution_count": 69,
   "metadata": {},
   "outputs": [
    {
     "data": {
      "text/html": [
       "1020100"
      ],
      "text/latex": [
       "1020100"
      ],
      "text/markdown": [
       "1020100"
      ],
      "text/plain": [
       "[1] 1020100"
      ]
     },
     "metadata": {},
     "output_type": "display_data"
    }
   ],
   "source": [
    "balances[3]"
   ]
  },
  {
   "cell_type": "code",
   "execution_count": 70,
   "metadata": {},
   "outputs": [
    {
     "data": {
      "text/html": [
       "8"
      ],
      "text/latex": [
       "8"
      ],
      "text/markdown": [
       "8"
      ],
      "text/plain": [
       "[1] 8"
      ]
     },
     "metadata": {},
     "output_type": "display_data"
    }
   ],
   "source": [
    "months[5]"
   ]
  },
  {
   "cell_type": "markdown",
   "metadata": {},
   "source": [
    "This works well when combined with loops. Use a loop to print all the `balances`:"
   ]
  },
  {
   "cell_type": "code",
   "execution_count": 71,
   "metadata": {},
   "outputs": [
    {
     "name": "stdout",
     "output_type": "stream",
     "text": [
      "[1] 1010000\n",
      "[1] 1020100\n",
      "[1] 1030301\n",
      "[1] 1040604.01\n",
      "[1] 1051010.05\n",
      "[1] 1061520.15\n",
      "[1] 1072135.35\n",
      "[1] 1082856.71\n",
      "[1] 1093685.27\n",
      "[1] 1104622.13\n",
      "[1] 1115668.35\n",
      "[1] 1126825.03\n",
      "[1] 1138093.28\n",
      "[1] 1149474.21\n",
      "[1] 1160968.96\n",
      "[1] 1172578.64\n",
      "[1] 1184304.43\n",
      "[1] 1196147.48\n",
      "[1] 1208108.95\n",
      "[1] 1220190.04\n",
      "[1] 1232391.94\n",
      "[1] 1244715.86\n",
      "[1] 1257163.02\n",
      "[1] 1269734.65\n",
      "[1] 1282432\n",
      "[1] 1295256.31\n",
      "[1] 1308208.88\n",
      "[1] 1321290.97\n",
      "[1] 1334503.88\n",
      "[1] 1347848.92\n",
      "[1] 1361327.4\n",
      "[1] 1374940.68\n",
      "[1] 1388690.09\n",
      "[1] 1402576.99\n",
      "[1] 1416602.76\n",
      "[1] 1430768.78\n",
      "[1] 1445076.47\n",
      "[1] 1459527.24\n",
      "[1] 1474122.51\n",
      "[1] 1488863.73\n",
      "[1] 1503752.37\n",
      "[1] 1518789.89\n",
      "[1] 1533977.79\n",
      "[1] 1549317.57\n",
      "[1] 1564810.75\n",
      "[1] 1580458.85\n",
      "[1] 1596263.44\n",
      "[1] 1612226.08\n",
      "[1] 1628348.34\n",
      "[1] 1644631.82\n",
      "[1] 1661078.14\n",
      "[1] 1677688.92\n",
      "[1] 1694465.81\n",
      "[1] 1711410.47\n",
      "[1] 1728524.57\n",
      "[1] 1745809.82\n",
      "[1] 1763267.92\n",
      "[1] 1780900.6\n",
      "[1] 1798709.6\n",
      "[1] 1816696.7\n",
      "[1] 1834863.67\n",
      "[1] 1853212.3\n",
      "[1] 1871744.43\n",
      "[1] 1890461.87\n",
      "[1] 1909366.49\n",
      "[1] 1928460.15\n",
      "[1] 1947744.75\n",
      "[1] 1967222.2\n",
      "[1] 1986894.42\n",
      "[1] 2006763.37\n",
      "[1] 2026831\n",
      "[1] 2047099.31\n",
      "[1] 2067570.31\n",
      "[1] 2088246.01\n",
      "[1] 2109128.47\n",
      "[1] 2130219.75\n",
      "[1] 2151521.95\n",
      "[1] 2173037.17\n",
      "[1] 2194767.54\n",
      "[1] 2216715.22\n",
      "[1] 2238882.37\n",
      "[1] 2261271.19\n",
      "[1] 2283883.9\n",
      "[1] 2306722.74\n",
      "[1] 2329789.97\n",
      "[1] 2353087.87\n",
      "[1] 2376618.75\n",
      "[1] 2400384.94\n",
      "[1] 2424388.79\n",
      "[1] 2448632.67\n",
      "[1] 2473119\n",
      "[1] 2497850.19\n",
      "[1] 2522828.69\n",
      "[1] 2548056.98\n",
      "[1] 2573537.55\n",
      "[1] 2599272.93\n",
      "[1] 2625265.65\n",
      "[1] 2651518.31\n",
      "[1] 2678033.49\n",
      "[1] 2704813.83\n",
      "[1] 2731861.97\n",
      "[1] 2759180.59\n",
      "[1] 2786772.39\n",
      "[1] 2814640.12\n",
      "[1] 2842786.52\n",
      "[1] 2871214.38\n",
      "[1] 2899926.53\n",
      "[1] 2928925.79\n",
      "[1] 2958215.05\n",
      "[1] 2987797.2\n",
      "[1] 3017675.17\n",
      "[1] 3047851.92\n",
      "[1] 3078330.44\n",
      "[1] 3109113.75\n",
      "[1] 3140204.89\n",
      "[1] 3171606.93\n",
      "[1] 3203323\n",
      "[1] 3235356.23\n",
      "[1] 3267709.8\n",
      "[1] 3300386.89\n"
     ]
    }
   ],
   "source": [
    "#clear\n",
    "for (i in 1:compoundings+1) {\n",
    "    print(balances[i])\n",
    "}"
   ]
  },
  {
   "cell_type": "markdown",
   "metadata": {},
   "source": [
    "* Make sure you print *all* the balances. There should be `compoundings+1` values in `balances`.\n",
    "\n",
    "----\n",
    "\n",
    "Now, we can use the same principle to compute and print rise over run, by referring to `balance[i+1]` and `balance[i]` inside the loop.\n",
    "\n",
    "* Does the number of rounds of the loop need to change?\n",
    "* Compute your run in units of years (not months), i.e. divide it by 12.\n",
    "* Compare (by subtracting and printing) the slope with `interest_rate * balances[i]`. What do you expect to see? What *do* you see?"
   ]
  },
  {
   "cell_type": "code",
   "execution_count": 76,
   "metadata": {},
   "outputs": [
    {
     "name": "stdout",
     "output_type": "stream",
     "text": [
      "[1] 0\n",
      "[1] 0\n",
      "[1] 0\n",
      "[1] 5.82076609e-11\n",
      "[1] 6.03904482e-10\n",
      "[1] -3.0559022e-10\n",
      "[1] 1.45519152e-10\n",
      "[1] 6.62112143e-10\n",
      "[1] -5.09317033e-11\n",
      "[1] 3.78349796e-10\n",
      "[1] -4.80213203e-10\n",
      "[1] -3.63797881e-10\n",
      "[1] -3.49245965e-10\n",
      "[1] -4.80213203e-10\n",
      "[1] -2.47382559e-10\n",
      "[1] -3.78349796e-10\n",
      "[1] 2.61934474e-10\n",
      "[1] -4.65661287e-10\n",
      "[1] 2.76486389e-10\n",
      "[1] 6.69388101e-10\n",
      "[1] 6.83940016e-10\n",
      "[1] 4.80213203e-10\n",
      "[1] -4.07453626e-10\n",
      "[1] 6.1118044e-10\n",
      "[1] -3.92901711e-10\n",
      "[1] 6.4028427e-10\n",
      "[1] 2.18278728e-10\n",
      "[1] -1.30967237e-10\n",
      "[1] -1.01863407e-10\n",
      "[1] 1.60071068e-10\n",
      "[1] -5.82076609e-11\n",
      "[1] -5.96628524e-10\n",
      "[1] -1.60071068e-10\n",
      "[1] -3.20142135e-10\n",
      "[1] 5.96628524e-10\n",
      "[1] 5.23868948e-10\n",
      "[1] -5.67524694e-10\n",
      "[1] 3.3469405e-10\n",
      "[1] 3.0559022e-10\n",
      "[1] 2.76486389e-10\n",
      "[1] 4.65661287e-10\n",
      "[1] 2.03726813e-10\n",
      "[1] -1.45519152e-11\n",
      "[1] 6.1118044e-10\n",
      "[1] -8.73114914e-11\n",
      "[1] 3.20142135e-10\n",
      "[1] -3.63797881e-10\n",
      "[1] 6.54836185e-10\n",
      "[1] -5.96628524e-10\n",
      "[1] 1.74622983e-10\n",
      "[1] 3.63797881e-10\n",
      "[1] 3.0559022e-10\n",
      "[1] 5.67524694e-10\n",
      "[1] -1.16415322e-10\n",
      "[1] -1.60071068e-10\n",
      "[1] -2.76486389e-10\n",
      "[1] 3.63797881e-10\n",
      "[1] 4.51109372e-10\n",
      "[1] -2.03726813e-10\n",
      "[1] 1.01863407e-10\n",
      "[1] -5.82076609e-10\n",
      "[1] 2.76486389e-10\n",
      "[1] -4.07453626e-10\n",
      "[1] 1.16415322e-10\n",
      "[1] -8.73114914e-11\n",
      "[1] -5.82076609e-11\n",
      "[1] 3.3469405e-10\n",
      "[1] -3.78349796e-10\n",
      "[1] 2.91038305e-10\n",
      "[1] -3.0559022e-10\n",
      "[1] 3.20142135e-10\n",
      "[1] 4.65661287e-10\n",
      "[1] 5.09317033e-10\n",
      "[1] -7.27595761e-11\n",
      "[1] -8.44011083e-10\n",
      "[1] 1.03318598e-09\n",
      "[1] -6.4028427e-10\n",
      "[1] -4.07453626e-10\n",
      "[1] -1.03318598e-09\n",
      "[1] 6.98491931e-10\n",
      "[1] -1.01863407e-09\n",
      "[1] -2.91038305e-10\n",
      "[1] -1.45519152e-10\n",
      "[1] 0\n",
      "[1] 7.27595761e-10\n",
      "[1] -1.0477379e-09\n",
      "[1] -8.73114914e-10\n",
      "[1] -7.56699592e-10\n",
      "[1] 2.03726813e-10\n",
      "[1] 1.25146471e-09\n",
      "[1] -4.36557457e-10\n",
      "[1] 6.4028427e-10\n",
      "[1] -4.07453626e-10\n",
      "[1] 1.19325705e-09\n",
      "[1] -6.1118044e-10\n",
      "[1] -1.30967237e-09\n",
      "[1] 2.91038305e-11\n",
      "[1] 6.1118044e-10\n",
      "[1] 2.91038305e-10\n",
      "[1] -1.07684173e-09\n",
      "[1] 2.91038305e-10\n",
      "[1] 1.13504939e-09\n",
      "[1] 3.78349796e-10\n",
      "[1] -1.10594556e-09\n",
      "[1] -6.4028427e-10\n",
      "[1] -8.44011083e-10\n",
      "[1] -1.74622983e-10\n",
      "[1] 6.1118044e-10\n",
      "[1] -2.32830644e-10\n",
      "[1] -1.01863407e-09\n",
      "[1] 1.13504939e-09\n",
      "[1] -6.98491931e-10\n",
      "[1] 5.82076609e-10\n",
      "[1] 1.22236088e-09\n",
      "[1] -1.25146471e-09\n",
      "[1] -4.07453626e-10\n",
      "[1] 1.16415322e-09\n",
      "[1] -3.20142135e-10\n",
      "[1] -4.65661287e-10\n",
      "[1] -1.45519152e-10\n"
     ]
    }
   ],
   "source": [
    "#clear\n",
    "for (i in 1:compoundings) {\n",
    "    rise <- balances[i+1]-balances[i]\n",
    "    run_in_years <- (months[i+1]-months[i])/12\n",
    "    slope <- rise/run_in_years \n",
    "    print(slope - interest_rate*balances[i])\n",
    "}"
   ]
  },
  {
   "cell_type": "code",
   "execution_count": null,
   "metadata": {},
   "outputs": [],
   "source": []
  }
 ],
 "metadata": {
  "kernelspec": {
   "display_name": "R",
   "language": "R",
   "name": "ir"
  },
  "language_info": {
   "codemirror_mode": "r",
   "file_extension": ".r",
   "mimetype": "text/x-r-source",
   "name": "R",
   "pygments_lexer": "r",
   "version": "3.6.1"
  }
 },
 "nbformat": 4,
 "nbformat_minor": 4
}
