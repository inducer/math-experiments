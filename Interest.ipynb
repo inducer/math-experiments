{
 "cells": [
  {
   "cell_type": "markdown",
   "metadata": {},
   "source": [
    "# Figuring Interest with Computers\n",
    "\n",
    "* In this notebook, we will learn to use R to compute the value over time of a balance of \\$1,000,000 that receives 6% interest, compounded monthly.\n",
    "* The little boxes you see all over this page are called \"cells\". They contain things that the computer can execute. To execute them, hold <kbd>Shift</kbd> while pressing <kbd>Enter</kbd>.\n",
    "* We will also experiment with how the value of the balance changes if we compound at different intervals.\n",
    "* This first cell adjusts some settings. Just hit <kbd>Shift</kbd>+<kbd>Enter</kbd> on it to have it take effect."
   ]
  },
  {
   "cell_type": "code",
   "execution_count": 166,
   "metadata": {},
   "outputs": [],
   "source": [
    "options(digits=9, repr.plot.width=5, repr.plot.height=4)"
   ]
  },
  {
   "cell_type": "markdown",
   "metadata": {},
   "source": [
    "## Like a Pocket Calculator\n",
    "\n",
    "* You can use the computer like a pocket calculator, just by entering formulas inside of a `print(...)` statement.\n",
    "* You can also see \"comments\" in action here. A comment is a piece of code that the computer just ignores. We use it to keep track of the number of years."
   ]
  },
  {
   "cell_type": "code",
   "execution_count": 60,
   "metadata": {},
   "outputs": [
    {
     "name": "stdout",
     "output_type": "stream",
     "text": [
      "[1] 1005000\n"
     ]
    }
   ],
   "source": [
    "# after 1 month\n",
    "print(1000000 + 1000000 * 0.06/12)"
   ]
  },
  {
   "cell_type": "markdown",
   "metadata": {},
   "source": [
    "(You can disregard the `[1]` that is printed before the answer.)"
   ]
  },
  {
   "cell_type": "code",
   "execution_count": 70,
   "metadata": {},
   "outputs": [
    {
     "name": "stdout",
     "output_type": "stream",
     "text": [
      "[1] 1010025\n"
     ]
    }
   ],
   "source": [
    "# after 2 months\n",
    "print(1005000 + 1005000 * 0.06/12)"
   ]
  },
  {
   "cell_type": "markdown",
   "metadata": {},
   "source": [
    "Carry this out for six more years, so that you know the value after eight years:"
   ]
  },
  {
   "cell_type": "code",
   "execution_count": 75,
   "metadata": {},
   "outputs": [
    {
     "name": "stdout",
     "output_type": "stream",
     "text": [
      "[1] 1015075.12\n"
     ]
    }
   ],
   "source": [
    "#clear\n",
    "# after 3 months\n",
    "print(1010025 + 1010025 * 0.06/12)\n",
    "\n",
    "# (We're using \"print\" to get consistent display/rounding between here and the version below.)"
   ]
  },
  {
   "cell_type": "code",
   "execution_count": 72,
   "metadata": {},
   "outputs": [
    {
     "name": "stdout",
     "output_type": "stream",
     "text": [
      "[1] 1020150.5\n"
     ]
    }
   ],
   "source": [
    "#clear\n",
    "# after 4 months\n",
    "print(1015075.12 + 1015075.12 * 0.06/12)"
   ]
  },
  {
   "cell_type": "code",
   "execution_count": 73,
   "metadata": {},
   "outputs": [
    {
     "name": "stdout",
     "output_type": "stream",
     "text": [
      "[1] 1025251.25\n"
     ]
    }
   ],
   "source": [
    "#clear\n",
    "# after 5 months\n",
    "print(1020150.5 + 1020150.5 * 0.06/12)"
   ]
  },
  {
   "cell_type": "code",
   "execution_count": 76,
   "metadata": {},
   "outputs": [
    {
     "name": "stdout",
     "output_type": "stream",
     "text": [
      "[1] 1030377.51\n"
     ]
    }
   ],
   "source": [
    "#clear\n",
    "# after 6 months\n",
    "print(1025251.25 + 1025251.25 * 0.06/12)"
   ]
  },
  {
   "cell_type": "code",
   "execution_count": 68,
   "metadata": {},
   "outputs": [
    {
     "name": "stdout",
     "output_type": "stream",
     "text": [
      "[1] 1035529.4\n"
     ]
    }
   ],
   "source": [
    "#clear\n",
    "# after 7 months\n",
    "print(1030377.51 + 1030377.51 * 0.06/12)"
   ]
  },
  {
   "cell_type": "code",
   "execution_count": 77,
   "metadata": {},
   "outputs": [
    {
     "name": "stdout",
     "output_type": "stream",
     "text": [
      "[1] 1040707.05\n"
     ]
    }
   ],
   "source": [
    "#clear\n",
    "# after 8 months\n",
    "print(1035529.4 + 1035529.4 * 0.06/12)"
   ]
  },
  {
   "cell_type": "markdown",
   "metadata": {},
   "source": [
    "But copy-pasting the last value from the output to the next input is boring and error-prone, worse because we have to do it twice. We can probably do better."
   ]
  },
  {
   "cell_type": "markdown",
   "metadata": {},
   "source": [
    "## Using Variables\n",
    "\n",
    "* To save results of previous calculations, we can use *variables*.\n",
    "* We can make up any name we want for them, as long as it consists of only letters (`a`-`z`, `A`-`Z`), numbers (`0`-`9`), and underscores (`_`). You should use no other symbols in your variable names.\n",
    "* The values of variables \"survive\" from one cell to the next."
   ]
  },
  {
   "cell_type": "code",
   "execution_count": 78,
   "metadata": {},
   "outputs": [],
   "source": [
    "month0 <- 1000000"
   ]
  },
  {
   "cell_type": "code",
   "execution_count": 79,
   "metadata": {},
   "outputs": [],
   "source": [
    "month1 <- month0 + month0 * 0.06/12"
   ]
  },
  {
   "cell_type": "markdown",
   "metadata": {},
   "source": [
    "We no longer get to see the value (because we saved it in a variable). We have to explicitly request to see it. We can do that like so:"
   ]
  },
  {
   "cell_type": "code",
   "execution_count": 80,
   "metadata": {},
   "outputs": [
    {
     "name": "stdout",
     "output_type": "stream",
     "text": [
      "[1] 1005000\n"
     ]
    }
   ],
   "source": [
    "month1 <- month0 + month0 * 0.06/12\n",
    "print(month1)"
   ]
  },
  {
   "cell_type": "code",
   "execution_count": 81,
   "metadata": {},
   "outputs": [
    {
     "name": "stdout",
     "output_type": "stream",
     "text": [
      "[1] 1010025\n"
     ]
    }
   ],
   "source": [
    "month2 <- month1 + month1 * 0.06/12\n",
    "print(month2)"
   ]
  },
  {
   "cell_type": "markdown",
   "metadata": {},
   "source": [
    "Carry this out for six more years, so that you can compare with your value after eight years from above:"
   ]
  },
  {
   "cell_type": "code",
   "execution_count": 82,
   "metadata": {},
   "outputs": [
    {
     "name": "stdout",
     "output_type": "stream",
     "text": [
      "[1] 1015075.12\n"
     ]
    }
   ],
   "source": [
    "#clear\n",
    "month3 <- month2 + month2 * 0.06/12\n",
    "print(month3)"
   ]
  },
  {
   "cell_type": "code",
   "execution_count": 83,
   "metadata": {},
   "outputs": [
    {
     "name": "stdout",
     "output_type": "stream",
     "text": [
      "[1] 1020150.5\n"
     ]
    }
   ],
   "source": [
    "#clear\n",
    "month4 <- month3 + month3 * 0.06/12\n",
    "print(month4)"
   ]
  },
  {
   "cell_type": "code",
   "execution_count": 84,
   "metadata": {},
   "outputs": [
    {
     "name": "stdout",
     "output_type": "stream",
     "text": [
      "[1] 1025251.25\n"
     ]
    }
   ],
   "source": [
    "#clear\n",
    "month5 <- month4 + month4 * 0.06/12\n",
    "print(month5)"
   ]
  },
  {
   "cell_type": "code",
   "execution_count": 85,
   "metadata": {},
   "outputs": [
    {
     "name": "stdout",
     "output_type": "stream",
     "text": [
      "[1] 1030377.51\n"
     ]
    }
   ],
   "source": [
    "#clear\n",
    "month6 <- month5 + month5 * 0.06/12\n",
    "print(month6)"
   ]
  },
  {
   "cell_type": "code",
   "execution_count": 86,
   "metadata": {},
   "outputs": [
    {
     "name": "stdout",
     "output_type": "stream",
     "text": [
      "[1] 1035529.4\n"
     ]
    }
   ],
   "source": [
    "#clear\n",
    "month7 <- month6 + month6 * 0.06/12\n",
    "print(month7)"
   ]
  },
  {
   "cell_type": "code",
   "execution_count": 87,
   "metadata": {},
   "outputs": [
    {
     "name": "stdout",
     "output_type": "stream",
     "text": [
      "[1] 1040707.04\n"
     ]
    }
   ],
   "source": [
    "#clear\n",
    "month8 <- month7 + month7 * 0.06/12\n",
    "print(month8)"
   ]
  },
  {
   "cell_type": "markdown",
   "metadata": {},
   "source": [
    "* Is this value the same as above? Exactly? Why?"
   ]
  },
  {
   "cell_type": "markdown",
   "metadata": {},
   "source": [
    "We now have *all* the values of the balance in computer memory at the same time. We can ask to see them all at once:"
   ]
  },
  {
   "cell_type": "code",
   "execution_count": 88,
   "metadata": {},
   "outputs": [
    {
     "name": "stdout",
     "output_type": "stream",
     "text": [
      "[1] 1e+06\n",
      "[1] 1005000\n",
      "[1] 1010025\n",
      "[1] 1015075.12\n",
      "[1] 1020150.5\n",
      "[1] 1025251.25\n",
      "[1] 1030377.51\n",
      "[1] 1035529.4\n",
      "[1] 1040707.04\n"
     ]
    }
   ],
   "source": [
    "print(month0)\n",
    "print(month1)\n",
    "print(month2)\n",
    "print(month3)\n",
    "print(month4)\n",
    "print(month5)\n",
    "print(month6)\n",
    "print(month7)\n",
    "print(month8)"
   ]
  },
  {
   "cell_type": "markdown",
   "metadata": {},
   "source": [
    "This is still boring and error prone. Can we do better still?"
   ]
  },
  {
   "cell_type": "markdown",
   "metadata": {},
   "source": [
    "## Using Variables that Change\n",
    "\n",
    "It turns out that we can *change* the value of a variable, even after we've already set it:"
   ]
  },
  {
   "cell_type": "code",
   "execution_count": 89,
   "metadata": {},
   "outputs": [
    {
     "name": "stdout",
     "output_type": "stream",
     "text": [
      "[1] 1e+06\n",
      "[1] 1005000\n"
     ]
    }
   ],
   "source": [
    "balance <- 1000000\n",
    "print(balance)\n",
    "balance <- 1000000 + 1000000 * 0.06/12\n",
    "print(balance)"
   ]
  },
  {
   "cell_type": "markdown",
   "metadata": {},
   "source": [
    "It's the value that was set last that counts. It turns out that that applies even *while* we're setting a new value of the same variable:"
   ]
  },
  {
   "cell_type": "code",
   "execution_count": 90,
   "metadata": {},
   "outputs": [
    {
     "name": "stdout",
     "output_type": "stream",
     "text": [
      "[1] 1e+06\n",
      "[1] 1005000\n"
     ]
    }
   ],
   "source": [
    "balance <- 1000000\n",
    "print(balance)\n",
    "balance <- balance + balance * 0.06/12\n",
    "print(balance)"
   ]
  },
  {
   "cell_type": "markdown",
   "metadata": {},
   "source": [
    "That means we can make this much less annoying to carry out, using copy-and-paste. Use the cell above as a pattern to calculate the balance after eight months:"
   ]
  },
  {
   "cell_type": "code",
   "execution_count": 91,
   "metadata": {},
   "outputs": [
    {
     "name": "stdout",
     "output_type": "stream",
     "text": [
      "[1] 1040707.04\n"
     ]
    }
   ],
   "source": [
    "#clear\n",
    "balance <- 1000000\n",
    "\n",
    "balance <- balance + balance * 0.06/12\n",
    "balance <- balance + balance * 0.06/12\n",
    "balance <- balance + balance * 0.06/12\n",
    "balance <- balance + balance * 0.06/12\n",
    "\n",
    "balance <- balance + balance * 0.06/12\n",
    "balance <- balance + balance * 0.06/12\n",
    "balance <- balance + balance * 0.06/12\n",
    "balance <- balance + balance * 0.06/12\n",
    "\n",
    "print(balance)"
   ]
  },
  {
   "cell_type": "markdown",
   "metadata": {},
   "source": [
    "* The value of `balance` changes throughout the calculation. Add `print` statements to see its value after each update.\n",
    "\n",
    "---\n",
    "We're still having to type the interest on every line. That's inconvenient if we would like to change it, to see what would happen if the interest rate or the compounding interval changes."
   ]
  },
  {
   "cell_type": "markdown",
   "metadata": {},
   "source": [
    "## Using Variables for More Things\n",
    "\n",
    "We can simply use variables for those things as well. Let's use these values.\n",
    "\n",
    "SET-UP:"
   ]
  },
  {
   "cell_type": "code",
   "execution_count": 92,
   "metadata": {},
   "outputs": [],
   "source": [
    "starting_balance <- 1000000\n",
    "interest_rate <- 0.06\n",
    "compounding_interval <- (1/12)"
   ]
  },
  {
   "cell_type": "markdown",
   "metadata": {},
   "source": [
    "Modify the snippet of code from above to make use of these variables, and check that it still computes the same answer:\n",
    "\n",
    "COMPUTATION:"
   ]
  },
  {
   "cell_type": "code",
   "execution_count": 93,
   "metadata": {},
   "outputs": [
    {
     "name": "stdout",
     "output_type": "stream",
     "text": [
      "[1] 1040707.04\n"
     ]
    }
   ],
   "source": [
    "#clear\n",
    "\n",
    "balance <- starting_balance\n",
    "\n",
    "balance <- balance + balance * interest_rate * compounding_interval\n",
    "balance <- balance + balance * interest_rate * compounding_interval\n",
    "balance <- balance + balance * interest_rate * compounding_interval\n",
    "balance <- balance + balance * interest_rate * compounding_interval\n",
    "\n",
    "balance <- balance + balance * interest_rate * compounding_interval\n",
    "balance <- balance + balance * interest_rate * compounding_interval\n",
    "balance <- balance + balance * interest_rate * compounding_interval\n",
    "balance <- balance + balance * interest_rate * compounding_interval\n",
    "\n",
    "print(balance)"
   ]
  },
  {
   "cell_type": "markdown",
   "metadata": {},
   "source": [
    "Now use modified versions of the two cells above (\"SET-UP\" and \"COMPUTATION\") to figure what the balance is after eight months if interest is compounded six times a year (i.e. every two months):"
   ]
  },
  {
   "cell_type": "code",
   "execution_count": 128,
   "metadata": {},
   "outputs": [],
   "source": [
    "#clear\n",
    "starting_balance <- 100000\n",
    "interest_rate <- 0.06\n",
    "compounding_interval <- (1/6)"
   ]
  },
  {
   "cell_type": "code",
   "execution_count": 129,
   "metadata": {},
   "outputs": [
    {
     "name": "stdout",
     "output_type": "stream",
     "text": [
      "[1] 104060.401\n"
     ]
    }
   ],
   "source": [
    "#clear\n",
    "balance <- starting_balance\n",
    "\n",
    "balance <- balance + balance * interest_rate * compounding_interval\n",
    "balance <- balance + balance * interest_rate * compounding_interval\n",
    "balance <- balance + balance * interest_rate * compounding_interval\n",
    "balance <- balance + balance * interest_rate * compounding_interval\n",
    "\n",
    "print(balance)"
   ]
  },
  {
   "cell_type": "markdown",
   "metadata": {},
   "source": [
    "* How different is the result from monthly compounding?\n",
    "* Does that match what you expect?\n",
    "\n",
    "----\n",
    "\n",
    "It is sort of annoying that we can now easily change everything about the computation *except* how often the compounding is carried out. But it turns out that there is a widget for that, too."
   ]
  },
  {
   "cell_type": "markdown",
   "metadata": {},
   "source": [
    "## Loops\n",
    "\n",
    "*   Type in\n",
    "    ```\n",
    "    for (i in 1:17) {\n",
    "        print(\"Hello\")\n",
    "    }\n",
    "    ```\n",
    "    and execute it. What happens?\n",
    "*   Change the `17` to a different value, and print two things per round of execution."
   ]
  },
  {
   "cell_type": "code",
   "execution_count": 179,
   "metadata": {},
   "outputs": [
    {
     "name": "stdout",
     "output_type": "stream",
     "text": [
      "[1] \"Hello\"\n",
      "[1] \"there!\"\n",
      "[1] \"Hello\"\n",
      "[1] \"there!\"\n",
      "[1] \"Hello\"\n",
      "[1] \"there!\"\n",
      "[1] \"Hello\"\n",
      "[1] \"there!\"\n",
      "[1] \"Hello\"\n",
      "[1] \"there!\"\n"
     ]
    }
   ],
   "source": [
    "#clear\n",
    "for (i in 1:5) {\n",
    "    print(\"Hello\")\n",
    "    print(\"there!\")\n",
    "}"
   ]
  },
  {
   "cell_type": "markdown",
   "metadata": {},
   "source": [
    "This is called a *loop*.\n",
    "\n",
    "* Use the loop pattern and plug in the compounding calculation for the *loop body*.\n",
    "* Combine three lines from the cell marked \"SET-UP\" together with the cell marked \"COMPUTATION\" and replace the repeated lines with a loop.\n",
    "* Make sure to print the `balance` after each update.\n",
    "* Check that you still compute the same result as above."
   ]
  },
  {
   "cell_type": "code",
   "execution_count": 177,
   "metadata": {},
   "outputs": [
    {
     "name": "stdout",
     "output_type": "stream",
     "text": [
      "[1] 1005000\n",
      "[1] 1010025\n",
      "[1] 1015075.12\n",
      "[1] 1020150.5\n",
      "[1] 1025251.25\n",
      "[1] 1030377.51\n",
      "[1] 1035529.4\n",
      "[1] 1040707.04\n"
     ]
    }
   ],
   "source": [
    "#clear\n",
    "starting_balance <- 1000000\n",
    "interest_rate <- 0.06\n",
    "compounding_interval <- (1/12)\n",
    "\n",
    "balance <- starting_balance\n",
    "\n",
    "for (i in 1:8) {\n",
    "    balance <- balance + balance * interest_rate * compounding_interval\n",
    "    print(balance)\n",
    "}"
   ]
  },
  {
   "cell_type": "markdown",
   "metadata": {},
   "source": [
    "The \"how-often\" bit of a loop can also be a variable. We'll define a variable `how_often_per_year` to say how often interest is compounded each year.\n",
    "\n",
    "* Change the computation above to use it, making sure to keep the overall time to eight months.\n",
    "* Create a new variable `compoundings` to represent the number of times compounding happens.\n",
    "* Check that for \"once a month\" you still get the same answer as above.\n",
    "* Experiment with higher values of `how_often_per_year`"
   ]
  },
  {
   "cell_type": "code",
   "execution_count": 180,
   "metadata": {},
   "outputs": [],
   "source": [
    "how_often_per_year <- 12"
   ]
  },
  {
   "cell_type": "code",
   "execution_count": 182,
   "metadata": {},
   "outputs": [
    {
     "name": "stdout",
     "output_type": "stream",
     "text": [
      "[1] 1005000\n",
      "[1] 1010025\n",
      "[1] 1015075.12\n",
      "[1] 1020150.5\n",
      "[1] 1025251.25\n",
      "[1] 1030377.51\n",
      "[1] 1035529.4\n",
      "[1] 1040707.04\n"
     ]
    }
   ],
   "source": [
    "#clear\n",
    "starting_balance <- 1000000\n",
    "interest_rate <- 0.06\n",
    "compounding_interval <- 1/how_often_per_year\n",
    "\n",
    "balance <- starting_balance\n",
    "\n",
    "compoundings <- (8 / 12) * how_often_per_year  # run for eight months\n",
    "for (i in 1:compoundings) {\n",
    "    balance <- balance + balance * interest_rate * compounding_interval\n",
    "    print(balance)\n",
    "}"
   ]
  },
  {
   "cell_type": "markdown",
   "metadata": {},
   "source": [
    "*   Does your modification do what you expect? How can you be sure? Can you be sure?\n",
    "*   Do you observe something you don't expect? Do you have a sense of what might be happening?\n",
    "*   Once you're confident that the code does what you expect, change the value of `how_often_per_year` to a very large number.\n",
    "    * How long does the computation take?\n",
    "    * What happens to the final balance? Does it keep growing with more frequent compounding? Can it become arbitrarily big?\n",
    "\n",
    "To better understand and compare what happens to these values over time in different scenarios, it would be great if we could plot them in a graph."
   ]
  },
  {
   "cell_type": "markdown",
   "metadata": {},
   "source": [
    "## Containers and Plotting\n",
    "\n",
    "It would be nice if the computer could also draw a graph of the balance over time. To do that, we will need all the values of `balance` present at one time, not at different times. To do that, we can use a container. Those are created like so:"
   ]
  },
  {
   "cell_type": "code",
   "execution_count": 183,
   "metadata": {},
   "outputs": [
    {
     "data": {
      "text/html": [
       "<ol class=list-inline>\n",
       "\t<li>100</li>\n",
       "\t<li>1300</li>\n",
       "\t<li>1500</li>\n",
       "</ol>\n"
      ],
      "text/latex": [
       "\\begin{enumerate*}\n",
       "\\item 100\n",
       "\\item 1300\n",
       "\\item 1500\n",
       "\\end{enumerate*}\n"
      ],
      "text/markdown": [
       "1. 100\n",
       "2. 1300\n",
       "3. 1500\n",
       "\n",
       "\n"
      ],
      "text/plain": [
       "[1]  100 1300 1500"
      ]
     },
     "metadata": {},
     "output_type": "display_data"
    }
   ],
   "source": [
    "c(100, 1300, 1500)"
   ]
  },
  {
   "cell_type": "markdown",
   "metadata": {},
   "source": [
    "We can also make names for them, just like numbers:"
   ]
  },
  {
   "cell_type": "code",
   "execution_count": 184,
   "metadata": {},
   "outputs": [
    {
     "data": {
      "text/html": [
       "<ol class=list-inline>\n",
       "\t<li>1000</li>\n",
       "\t<li>1300</li>\n",
       "\t<li>1500</li>\n",
       "</ol>\n"
      ],
      "text/latex": [
       "\\begin{enumerate*}\n",
       "\\item 1000\n",
       "\\item 1300\n",
       "\\item 1500\n",
       "\\end{enumerate*}\n"
      ],
      "text/markdown": [
       "1. 1000\n",
       "2. 1300\n",
       "3. 1500\n",
       "\n",
       "\n"
      ],
      "text/plain": [
       "[1] 1000 1300 1500"
      ]
     },
     "metadata": {},
     "output_type": "display_data"
    }
   ],
   "source": [
    "data <- c(1000, 1300, 1500)\n",
    "data"
   ]
  },
  {
   "cell_type": "markdown",
   "metadata": {},
   "source": [
    "We can also add onto them very simply:"
   ]
  },
  {
   "cell_type": "code",
   "execution_count": 185,
   "metadata": {},
   "outputs": [
    {
     "data": {
      "text/html": [
       "<ol class=list-inline>\n",
       "\t<li>1000</li>\n",
       "\t<li>1300</li>\n",
       "\t<li>1500</li>\n",
       "\t<li>2000</li>\n",
       "</ol>\n"
      ],
      "text/latex": [
       "\\begin{enumerate*}\n",
       "\\item 1000\n",
       "\\item 1300\n",
       "\\item 1500\n",
       "\\item 2000\n",
       "\\end{enumerate*}\n"
      ],
      "text/markdown": [
       "1. 1000\n",
       "2. 1300\n",
       "3. 1500\n",
       "4. 2000\n",
       "\n",
       "\n"
      ],
      "text/plain": [
       "[1] 1000 1300 1500 2000"
      ]
     },
     "metadata": {},
     "output_type": "display_data"
    }
   ],
   "source": [
    "data <- c(1000, 1300, 1500)\n",
    "c(data, 2000)"
   ]
  },
  {
   "cell_type": "markdown",
   "metadata": {},
   "source": [
    "The result of that operation can then be put back into a variable, including the same one:"
   ]
  },
  {
   "cell_type": "code",
   "execution_count": 186,
   "metadata": {},
   "outputs": [
    {
     "data": {
      "text/html": [
       "<ol class=list-inline>\n",
       "\t<li>1000</li>\n",
       "\t<li>1300</li>\n",
       "\t<li>1500</li>\n",
       "\t<li>2000</li>\n",
       "</ol>\n"
      ],
      "text/latex": [
       "\\begin{enumerate*}\n",
       "\\item 1000\n",
       "\\item 1300\n",
       "\\item 1500\n",
       "\\item 2000\n",
       "\\end{enumerate*}\n"
      ],
      "text/markdown": [
       "1. 1000\n",
       "2. 1300\n",
       "3. 1500\n",
       "4. 2000\n",
       "\n",
       "\n"
      ],
      "text/plain": [
       "[1] 1000 1300 1500 2000"
      ]
     },
     "metadata": {},
     "output_type": "display_data"
    }
   ],
   "source": [
    "data <- c(1000, 1300, 1500)\n",
    "data <- c(data, 2000)\n",
    "\n",
    "data"
   ]
  },
  {
   "cell_type": "markdown",
   "metadata": {},
   "source": [
    "We can then ask the computer to plot the data in the container:"
   ]
  },
  {
   "cell_type": "code",
   "execution_count": 187,
   "metadata": {},
   "outputs": [
    {
     "data": {
      "image/png": "[encoded data removed]",
      "text/plain": [
       "plot without title"
      ]
     },
     "metadata": {},
     "output_type": "display_data"
    }
   ],
   "source": [
    "plot(data)"
   ]
  },
  {
   "cell_type": "markdown",
   "metadata": {},
   "source": [
    "Change the latest version of your computation (the one with varying `how_often_per_year`) to include plotting by introducing a `balances` variable that is a container that gets filled up with all past balances. Make sure to include the first one!"
   ]
  },
  {
   "cell_type": "code",
   "execution_count": 188,
   "metadata": {},
   "outputs": [
    {
     "data": {
      "image/png": "[encoded data removed]",
      "text/plain": [
       "plot without title"
      ]
     },
     "metadata": {},
     "output_type": "display_data"
    }
   ],
   "source": [
    "#clear\n",
    "how_often_per_year <- 12\n",
    "starting_balance <- 1000000\n",
    "interest_rate <- 0.06\n",
    "compounding_interval <- 1/how_often_per_year\n",
    "\n",
    "balance <- starting_balance\n",
    "balances <- c(starting_balance)\n",
    "\n",
    "compoundings <- (8 / 12) * how_often_per_year  # run for eight months\n",
    "for (i in 1:compoundings) {\n",
    "    balance <- balance + balance * interest_rate * compounding_interval\n",
    "    balances <- c(balances, balance)\n",
    "}\n",
    "\n",
    "plot(balances)"
   ]
  },
  {
   "cell_type": "markdown",
   "metadata": {},
   "source": [
    "It is a little annoying that the labeling of the x-axis is just the \"Index\", i.e. the number of the entry in the container. Fortunately, we can fix that by passing *another* container (that has to have the same length as the first one) that includes x-axis positions:\n",
    "\n",
    "**Note** that the x-axis positions often do but do not *have to* have equal spacing!"
   ]
  },
  {
   "cell_type": "code",
   "execution_count": 189,
   "metadata": {},
   "outputs": [
    {
     "data": {
      "image/png": "[encoded data removed]",
      "text/plain": [
       "plot without title"
      ]
     },
     "metadata": {},
     "output_type": "display_data"
    }
   ],
   "source": [
    "xpos <- c(1, 3, 10, 20)\n",
    "\n",
    "data <- c(1000, 1300, 1500)\n",
    "data <- c(data, 2000)\n",
    "\n",
    "plot(xpos, data)"
   ]
  },
  {
   "cell_type": "markdown",
   "metadata": {},
   "source": [
    "* Modify your computation from above to also keep track of time, and\n",
    "* Add code to build a container `months` that, at the end, has the same number of entries as `balances` that keeps track of the time in months."
   ]
  },
  {
   "cell_type": "code",
   "execution_count": 190,
   "metadata": {},
   "outputs": [
    {
     "data": {
      "image/png": "[encoded data removed]",
      "text/plain": [
       "plot without title"
      ]
     },
     "metadata": {},
     "output_type": "display_data"
    }
   ],
   "source": [
    "#clear\n",
    "how_often_per_year <- 200\n",
    "starting_balance <- 1000000\n",
    "interest_rate <- 0.06\n",
    "compounding_interval <- 1/how_often_per_year\n",
    "\n",
    "balance <- starting_balance\n",
    "balances <- c(starting_balance)\n",
    "month <- 0\n",
    "months <- c(0)\n",
    "\n",
    "compoundings <- 10 * how_often_per_year\n",
    "for (i in 1:compoundings) {\n",
    "    balance <- balance + balance * interest_rate * compounding_interval\n",
    "    balances <- c(balances, balance)\n",
    "    month <- month + 12/how_often_per_year\n",
    "    months <- c(months, month)\n",
    "}\n",
    "\n",
    "plot(months, balances)\n",
    "\n",
    "# FIXME: Is this too big a jump?"
   ]
  },
  {
   "cell_type": "markdown",
   "metadata": {},
   "source": [
    "* Does the graph you obtain look like an exponential function? Should it?\n",
    "* What happens if you let the computation run for more months? 10 years? 20 years?\n",
    "* How does the final balance change if you modify the number of compoundings?\n",
    "* How many individual compounding steps has the computer taken for a 20-year, 5-times-a-month compunding calculation?"
   ]
  },
  {
   "cell_type": "code",
   "execution_count": 191,
   "metadata": {},
   "outputs": [
    {
     "data": {
      "text/html": [
       "1200"
      ],
      "text/latex": [
       "1200"
      ],
      "text/markdown": [
       "1200"
      ],
      "text/plain": [
       "[1] 1200"
      ]
     },
     "metadata": {},
     "output_type": "display_data"
    }
   ],
   "source": [
    "#clear\n",
    "20*12*5"
   ]
  },
  {
   "cell_type": "markdown",
   "metadata": {},
   "source": [
    "# To-do\n",
    "\n",
    "* computing slopes"
   ]
  }
 ],
 "metadata": {
  "kernelspec": {
   "display_name": "R",
   "language": "R",
   "name": "ir"
  },
  "language_info": {
   "codemirror_mode": "r",
   "file_extension": ".r",
   "mimetype": "text/x-r-source",
   "name": "R",
   "pygments_lexer": "r",
   "version": "3.6.1"
  }
 },
 "nbformat": 4,
 "nbformat_minor": 4
}
