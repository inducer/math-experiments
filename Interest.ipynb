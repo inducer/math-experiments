{
 "cells": [
  {
   "cell_type": "markdown",
   "metadata": {},
   "source": [
    "# Figuring Interest with Computers\n",
    "\n",
    "* In this notebook, we will learn to use R to compute the value over time of a balance of \\$10,000 that receives 4% interest, compounded monthly.\n",
    "* We will also experiment with how the value of the balance changes if we compound at different intervals."
   ]
  },
  {
   "cell_type": "markdown",
   "metadata": {},
   "source": [
    "## Like a Pocket Calculator\n",
    "\n",
    "* You can use the computer like a pocket calculator, just by entering formulas.\n",
    "* You can also see \"comments\" in action here. A comment is a piece of code that the computer just ignores. We use it to keep track of the number of years."
   ]
  },
  {
   "cell_type": "code",
   "execution_count": 75,
   "metadata": {},
   "outputs": [
    {
     "data": {
      "text/html": [
       "10033.3333333333"
      ],
      "text/latex": [
       "10033.3333333333"
      ],
      "text/markdown": [
       "10033.3333333333"
      ],
      "text/plain": [
       "[1] 10033.33"
      ]
     },
     "metadata": {},
     "output_type": "display_data"
    }
   ],
   "source": [
    "# after 1 month\n",
    "10000 * (1 + 0.04/12)"
   ]
  },
  {
   "cell_type": "code",
   "execution_count": 76,
   "metadata": {},
   "outputs": [
    {
     "data": {
      "text/html": [
       "10066.7777777777"
      ],
      "text/latex": [
       "10066.7777777777"
      ],
      "text/markdown": [
       "10066.7777777777"
      ],
      "text/plain": [
       "[1] 10066.78"
      ]
     },
     "metadata": {},
     "output_type": "display_data"
    }
   ],
   "source": [
    "# after 2 months\n",
    "10033.3333333333 + 10033.3333333333 * 0.04/12"
   ]
  },
  {
   "cell_type": "markdown",
   "metadata": {},
   "source": [
    "Carry this out for six more years, so that you know the value after eight years:"
   ]
  },
  {
   "cell_type": "code",
   "execution_count": 77,
   "metadata": {},
   "outputs": [
    {
     "data": {
      "text/html": [
       "10100.3337037036"
      ],
      "text/latex": [
       "10100.3337037036"
      ],
      "text/markdown": [
       "10100.3337037036"
      ],
      "text/plain": [
       "[1] 10100.33"
      ]
     },
     "metadata": {},
     "output_type": "display_data"
    }
   ],
   "source": [
    "#clear\n",
    "# after 3 months\n",
    "10066.7777777777 + 10066.7777777777  * 0.04/12"
   ]
  },
  {
   "cell_type": "code",
   "execution_count": 78,
   "metadata": {},
   "outputs": [
    {
     "data": {
      "text/html": [
       "10134.0014827159"
      ],
      "text/latex": [
       "10134.0014827159"
      ],
      "text/markdown": [
       "10134.0014827159"
      ],
      "text/plain": [
       "[1] 10134"
      ]
     },
     "metadata": {},
     "output_type": "display_data"
    }
   ],
   "source": [
    "#clear\n",
    "# after 4 months\n",
    "10100.3337037036 + 10100.3337037036 * 0.04/12"
   ]
  },
  {
   "cell_type": "code",
   "execution_count": 79,
   "metadata": {},
   "outputs": [
    {
     "data": {
      "text/html": [
       "10167.7814876583"
      ],
      "text/latex": [
       "10167.7814876583"
      ],
      "text/markdown": [
       "10167.7814876583"
      ],
      "text/plain": [
       "[1] 10167.78"
      ]
     },
     "metadata": {},
     "output_type": "display_data"
    }
   ],
   "source": [
    "#clear\n",
    "# after 5 months\n",
    "10134.0014827159 + 10134.0014827159 * 0.04/12"
   ]
  },
  {
   "cell_type": "code",
   "execution_count": 80,
   "metadata": {},
   "outputs": [
    {
     "data": {
      "text/html": [
       "10201.6740926172"
      ],
      "text/latex": [
       "10201.6740926172"
      ],
      "text/markdown": [
       "10201.6740926172"
      ],
      "text/plain": [
       "[1] 10201.67"
      ]
     },
     "metadata": {},
     "output_type": "display_data"
    }
   ],
   "source": [
    "#clear\n",
    "# after 6 months\n",
    "10167.7814876583 + 10167.7814876583 * 0.04/12"
   ]
  },
  {
   "cell_type": "code",
   "execution_count": 81,
   "metadata": {},
   "outputs": [
    {
     "data": {
      "text/html": [
       "10235.6796729259"
      ],
      "text/latex": [
       "10235.6796729259"
      ],
      "text/markdown": [
       "10235.6796729259"
      ],
      "text/plain": [
       "[1] 10235.68"
      ]
     },
     "metadata": {},
     "output_type": "display_data"
    }
   ],
   "source": [
    "#clear\n",
    "# after 7 months\n",
    "10201.6740926172 + 10201.6740926172 * 0.04/12"
   ]
  },
  {
   "cell_type": "code",
   "execution_count": 82,
   "metadata": {},
   "outputs": [
    {
     "data": {
      "text/html": [
       "10269.798605169"
      ],
      "text/latex": [
       "10269.798605169"
      ],
      "text/markdown": [
       "10269.798605169"
      ],
      "text/plain": [
       "[1] 10269.8"
      ]
     },
     "metadata": {},
     "output_type": "display_data"
    }
   ],
   "source": [
    "#clear\n",
    "# after 8 months\n",
    "10235.6796729259 + 10235.6796729259 * 0.04/12"
   ]
  },
  {
   "cell_type": "markdown",
   "metadata": {},
   "source": [
    "But copy-pasting the last value from the output to the next input is boring and error-prone, worse because we have to do it twice. We can probably do better."
   ]
  },
  {
   "cell_type": "markdown",
   "metadata": {},
   "source": [
    "## Using Variables\n",
    "\n",
    "* To save results of previous calculations, we can use *variables*.\n",
    "* We can make up any name we want for them, as long as it consists of only letters (`a`-`z`, `A`-`Z`), numbers (`0`-`9`), and underscores (`_`). You should use no other symbols in your variable names.\n",
    "* The values of variables \"survive\" from one cell to the next."
   ]
  },
  {
   "cell_type": "code",
   "execution_count": 83,
   "metadata": {},
   "outputs": [],
   "source": [
    "month0 <- 10000"
   ]
  },
  {
   "cell_type": "code",
   "execution_count": 84,
   "metadata": {},
   "outputs": [],
   "source": [
    "month1 <- month0 + month0 * 0.04/12"
   ]
  },
  {
   "cell_type": "markdown",
   "metadata": {},
   "source": [
    "We no longer get to see the value, which is sad. We have to explicitly request to see it. We can do that like so:"
   ]
  },
  {
   "cell_type": "code",
   "execution_count": 85,
   "metadata": {},
   "outputs": [
    {
     "name": "stdout",
     "output_type": "stream",
     "text": [
      "[1] 10033.33\n"
     ]
    }
   ],
   "source": [
    "month1 <- month0 + month0 * 0.04/12\n",
    "print(month1)"
   ]
  },
  {
   "cell_type": "code",
   "execution_count": 86,
   "metadata": {},
   "outputs": [
    {
     "name": "stdout",
     "output_type": "stream",
     "text": [
      "[1] 10066.78\n"
     ]
    }
   ],
   "source": [
    "month2 <- month1 + month1 * 0.04/12\n",
    "print(month2)"
   ]
  },
  {
   "cell_type": "markdown",
   "metadata": {},
   "source": [
    "Carry this out for six more years, so that you can compare with your value after eight years from above:"
   ]
  },
  {
   "cell_type": "code",
   "execution_count": 87,
   "metadata": {},
   "outputs": [
    {
     "name": "stdout",
     "output_type": "stream",
     "text": [
      "[1] 10100.33\n"
     ]
    }
   ],
   "source": [
    "#clear\n",
    "month3 <- month2 + month2 * 0.04/12\n",
    "print(month3)"
   ]
  },
  {
   "cell_type": "code",
   "execution_count": 88,
   "metadata": {},
   "outputs": [
    {
     "name": "stdout",
     "output_type": "stream",
     "text": [
      "[1] 10134\n"
     ]
    }
   ],
   "source": [
    "#clear\n",
    "month4 <- month3 + month3 * 0.04/12\n",
    "print(month4)"
   ]
  },
  {
   "cell_type": "code",
   "execution_count": 90,
   "metadata": {},
   "outputs": [
    {
     "name": "stdout",
     "output_type": "stream",
     "text": [
      "[1] 10167.78\n"
     ]
    }
   ],
   "source": [
    "#clear\n",
    "month5 <- month4 + month4 * 0.04/12\n",
    "print(month5)"
   ]
  },
  {
   "cell_type": "code",
   "execution_count": 91,
   "metadata": {},
   "outputs": [
    {
     "name": "stdout",
     "output_type": "stream",
     "text": [
      "[1] 10201.67\n"
     ]
    }
   ],
   "source": [
    "#clear\n",
    "month6 <- month5 + month5 * 0.04/12\n",
    "print(month6)"
   ]
  },
  {
   "cell_type": "code",
   "execution_count": 92,
   "metadata": {},
   "outputs": [
    {
     "name": "stdout",
     "output_type": "stream",
     "text": [
      "[1] 10235.68\n"
     ]
    }
   ],
   "source": [
    "month7 <- month6 + month6 * 0.04/12\n",
    "print(month7)"
   ]
  },
  {
   "cell_type": "code",
   "execution_count": 93,
   "metadata": {},
   "outputs": [
    {
     "name": "stdout",
     "output_type": "stream",
     "text": [
      "[1] 10269.8\n"
     ]
    }
   ],
   "source": [
    "#clear\n",
    "month8 <- month7 + month7 * 0.04/12\n",
    "print(month8)"
   ]
  },
  {
   "cell_type": "markdown",
   "metadata": {},
   "source": [
    "Is this value exactly the same as above? Check your answer by subtracting your `month8` variable from the result you computed above and printing the result."
   ]
  },
  {
   "cell_type": "code",
   "execution_count": 94,
   "metadata": {},
   "outputs": [
    {
     "name": "stdout",
     "output_type": "stream",
     "text": [
      "[1] -1.091394e-10\n"
     ]
    }
   ],
   "source": [
    "#clear\n",
    "print(10269.798605169 - month8)"
   ]
  },
  {
   "cell_type": "markdown",
   "metadata": {},
   "source": [
    "* What does the computer mean by this answer?\n",
    "* If you compute the difference between the printed values by hand, do you get the same result? How do you explain what you observe?\n",
    "\n",
    "----\n",
    "\n",
    "This is still boring and error prone. Can we do better still?"
   ]
  },
  {
   "cell_type": "markdown",
   "metadata": {},
   "source": [
    "## Using Variables that Change\n",
    "\n",
    "It turns out that we can *change* the value of a variable, even after we've already set it:"
   ]
  },
  {
   "cell_type": "code",
   "execution_count": 95,
   "metadata": {},
   "outputs": [
    {
     "name": "stdout",
     "output_type": "stream",
     "text": [
      "[1] 10000\n",
      "[1] 10003.33\n"
     ]
    }
   ],
   "source": [
    "balance <- 10000\n",
    "print(balance)\n",
    "balance <- 10000 + 1000 * 0.04/12\n",
    "print(balance)"
   ]
  },
  {
   "cell_type": "markdown",
   "metadata": {},
   "source": [
    "It's the value that was set last that counts. It turns out that that applies even *while* we're setting a new value of the same variable:"
   ]
  },
  {
   "cell_type": "code",
   "execution_count": 96,
   "metadata": {},
   "outputs": [
    {
     "name": "stdout",
     "output_type": "stream",
     "text": [
      "[1] 10000\n",
      "[1] 10033.33\n"
     ]
    }
   ],
   "source": [
    "balance <- 10000\n",
    "print(balance)\n",
    "balance <- balance + balance * 0.04/12\n",
    "print(balance)"
   ]
  },
  {
   "cell_type": "markdown",
   "metadata": {},
   "source": [
    "That means we can make this much less annoying to carry out, using copy-and-paste. Use the cell above as a pattern to calculate the balance after eight months:"
   ]
  },
  {
   "cell_type": "code",
   "execution_count": 97,
   "metadata": {},
   "outputs": [
    {
     "name": "stdout",
     "output_type": "stream",
     "text": [
      "[1] 10269.8\n"
     ]
    }
   ],
   "source": [
    "#clear\n",
    "balance <- 10000\n",
    "\n",
    "balance <- balance + balance * 0.04/12\n",
    "balance <- balance + balance * 0.04/12\n",
    "balance <- balance + balance * 0.04/12\n",
    "balance <- balance + balance * 0.04/12\n",
    "\n",
    "balance <- balance + balance * 0.04/12\n",
    "balance <- balance + balance * 0.04/12\n",
    "balance <- balance + balance * 0.04/12\n",
    "balance <- balance + balance * 0.04/12\n",
    "\n",
    "print(balance)"
   ]
  },
  {
   "cell_type": "markdown",
   "metadata": {},
   "source": [
    "We're still having to type the interest on every line. That's inconvenient if we would like to change it, to see what would happen if the interest rate or the compounding interval changes."
   ]
  },
  {
   "cell_type": "markdown",
   "metadata": {},
   "source": [
    "## Using Variables for More Things\n",
    "\n",
    "We can simply use variables for those things as well. Let's use these values.\n",
    "\n",
    "SET-UP:"
   ]
  },
  {
   "cell_type": "code",
   "execution_count": 98,
   "metadata": {},
   "outputs": [],
   "source": [
    "starting_balance <- 10000\n",
    "interest_rate <- 0.04\n",
    "compounding_interval <- (1/12)"
   ]
  },
  {
   "cell_type": "markdown",
   "metadata": {},
   "source": [
    "Modify the snippet of code from above to make use of these variables, and check that it still computes the same answer:\n",
    "\n",
    "COMPUTATION:"
   ]
  },
  {
   "cell_type": "code",
   "execution_count": 99,
   "metadata": {},
   "outputs": [
    {
     "name": "stdout",
     "output_type": "stream",
     "text": [
      "[1] 10269.8\n"
     ]
    }
   ],
   "source": [
    "#clear\n",
    "\n",
    "balance <- starting_balance\n",
    "\n",
    "balance <- balance + balance * interest_rate * compounding_interval\n",
    "balance <- balance + balance * interest_rate * compounding_interval\n",
    "balance <- balance + balance * interest_rate * compounding_interval\n",
    "balance <- balance + balance * interest_rate * compounding_interval\n",
    "\n",
    "balance <- balance + balance * interest_rate * compounding_interval\n",
    "balance <- balance + balance * interest_rate * compounding_interval\n",
    "balance <- balance + balance * interest_rate * compounding_interval\n",
    "balance <- balance + balance * interest_rate * compounding_interval\n",
    "\n",
    "print(balance)"
   ]
  },
  {
   "cell_type": "markdown",
   "metadata": {},
   "source": [
    "Now use modified versions of the two cells above (\"SET-UP\" and \"COMPUTATION\") to figure what the balance is after eight months if interest is compounded 24 times a year (so roughly every two weeks):"
   ]
  },
  {
   "cell_type": "code",
   "execution_count": 103,
   "metadata": {},
   "outputs": [],
   "source": [
    "#clear\n",
    "starting_balance <- 10000\n",
    "interest_rate <- 0.04\n",
    "compounding_interval <- (1/24)"
   ]
  },
  {
   "cell_type": "code",
   "execution_count": 104,
   "metadata": {},
   "outputs": [
    {
     "name": "stdout",
     "output_type": "stream",
     "text": [
      "[1] 10270.03\n"
     ]
    }
   ],
   "source": [
    "#clear\n",
    "balance <- starting_balance\n",
    "\n",
    "balance <- balance + balance * interest_rate * compounding_interval\n",
    "balance <- balance + balance * interest_rate * compounding_interval\n",
    "balance <- balance + balance * interest_rate * compounding_interval\n",
    "balance <- balance + balance * interest_rate * compounding_interval\n",
    "\n",
    "balance <- balance + balance * interest_rate * compounding_interval\n",
    "balance <- balance + balance * interest_rate * compounding_interval\n",
    "balance <- balance + balance * interest_rate * compounding_interval\n",
    "balance <- balance + balance * interest_rate * compounding_interval\n",
    "\n",
    "balance <- balance + balance * interest_rate * compounding_interval\n",
    "balance <- balance + balance * interest_rate * compounding_interval\n",
    "balance <- balance + balance * interest_rate * compounding_interval\n",
    "balance <- balance + balance * interest_rate * compounding_interval\n",
    "\n",
    "balance <- balance + balance * interest_rate * compounding_interval\n",
    "balance <- balance + balance * interest_rate * compounding_interval\n",
    "balance <- balance + balance * interest_rate * compounding_interval\n",
    "balance <- balance + balance * interest_rate * compounding_interval\n",
    "\n",
    "print(balance)"
   ]
  },
  {
   "cell_type": "markdown",
   "metadata": {},
   "source": [
    "* How different is the result from monthly compounding?\n",
    "* Does that match what you expect?\n",
    "\n",
    "----\n",
    "\n",
    "It is sort of annoying that we can now change everything about a computation *except* how often it is carried out. But it turns out that there is a widget for that, too."
   ]
  },
  {
   "cell_type": "markdown",
   "metadata": {},
   "source": [
    "## Loops\n",
    "\n",
    "If you type:\n",
    "```\n",
    "for (i in 1:HOW_OFTEN) {\n",
    "    WHAT\n",
    "}\n",
    "```\n",
    "then `WHAT` is carried out `HOW_OFTEN` times:"
   ]
  },
  {
   "cell_type": "code",
   "execution_count": 102,
   "metadata": {},
   "outputs": [
    {
     "name": "stdout",
     "output_type": "stream",
     "text": [
      "[1] \"Hi\"\n",
      "[1] \"Hi\"\n",
      "[1] \"Hi\"\n",
      "[1] \"Hi\"\n",
      "[1] \"Hi\"\n",
      "[1] \"Hi\"\n",
      "[1] \"Hi\"\n",
      "[1] \"Hi\"\n",
      "[1] \"Hi\"\n",
      "[1] \"Hi\"\n",
      "[1] \"Hi\"\n",
      "[1] \"Hi\"\n"
     ]
    }
   ],
   "source": [
    "for (i in 1:12) {\n",
    "    print(\"Hi\")\n",
    "}"
   ]
  },
  {
   "cell_type": "markdown",
   "metadata": {},
   "source": [
    "This is called a *loop*. Combine the SET-UP and COMPUTATION CELLS into one and use the loop pattern to carry out interest compounding the correct number of times:"
   ]
  },
  {
   "cell_type": "code",
   "execution_count": 109,
   "metadata": {},
   "outputs": [
    {
     "name": "stdout",
     "output_type": "stream",
     "text": [
      "[1] 10270.03\n"
     ]
    }
   ],
   "source": [
    "#clear\n",
    "starting_balance <- 10000\n",
    "interest_rate <- 0.04\n",
    "compounding_interval <- (1/24)\n",
    "\n",
    "balance <- starting_balance\n",
    "\n",
    "for (i in 1:16) {\n",
    "    balance <- balance + balance * interest_rate * compounding_interval\n",
    "}\n",
    "\n",
    "print(balance)"
   ]
  },
  {
   "cell_type": "markdown",
   "metadata": {},
   "source": [
    "The `HOW_OFTEN` bit of a loop can also be a variable. We'll define a variable `how_often_per_month` to say how often interest is compounded each month.\n",
    "\n",
    "* Change the computation above to use it.\n",
    "* Check that for \"twice a month\" you still get the same answer as above.\n",
    "* Experiment with higher values of `how_often_per_month`"
   ]
  },
  {
   "cell_type": "code",
   "execution_count": 148,
   "metadata": {},
   "outputs": [],
   "source": [
    "how_often_per_month <- 2"
   ]
  },
  {
   "cell_type": "code",
   "execution_count": 149,
   "metadata": {},
   "outputs": [
    {
     "name": "stdout",
     "output_type": "stream",
     "text": [
      "[1] 10270.02607\n"
     ]
    }
   ],
   "source": [
    "#clear\n",
    "starting_balance <- 10000\n",
    "interest_rate <- 0.04\n",
    "compounding_interval <- (1/(12*how_often_per_month))\n",
    "\n",
    "balance <- starting_balance\n",
    "\n",
    "compoundings <- 8*how_often_per_month\n",
    "for (i in 1:compoundings) {\n",
    "    balance <- balance + balance * interest_rate * compounding_interval\n",
    "}\n",
    "\n",
    "print(balance, digits=10)"
   ]
  },
  {
   "cell_type": "markdown",
   "metadata": {},
   "source": [
    "*   Does your modification do what you expect? How can you be sure? Can you be sure?\n",
    "*   Do you observe something you don't expect? Do you have a sense of what might be happening?\n",
    "\n",
    "    Hint: Try using the `digits` setting with `print`, like so: `print(balance, digits=10)`\n",
    "*   Once you're confident that the code does what you expect, change the value of `how_often_per_month` to a very large number.\n",
    "    * How long does the computation take?\n",
    "    * What happens to the final balance? Does it keep growing with more frequent compounding? Can it become arbitrarily big?\n",
    "\n",
    "To better understand and compare what happens to these values over time in different scenarios, it would be great if we could plot them in a graph."
   ]
  },
  {
   "cell_type": "markdown",
   "metadata": {},
   "source": [
    "## Containers and Plotting\n",
    "\n",
    "It would be nice if the computer could also draw a graph of the balance over time. To do that, we will need all the values of `balance` present at one time, not at different times. To do that, we can use a container. Those are created like so:"
   ]
  },
  {
   "cell_type": "code",
   "execution_count": 162,
   "metadata": {},
   "outputs": [
    {
     "data": {
      "text/html": [
       "<ol class=list-inline>\n",
       "\t<li>100</li>\n",
       "\t<li>1300</li>\n",
       "\t<li>1500</li>\n",
       "</ol>\n"
      ],
      "text/latex": [
       "\\begin{enumerate*}\n",
       "\\item 100\n",
       "\\item 1300\n",
       "\\item 1500\n",
       "\\end{enumerate*}\n"
      ],
      "text/markdown": [
       "1. 100\n",
       "2. 1300\n",
       "3. 1500\n",
       "\n",
       "\n"
      ],
      "text/plain": [
       "[1]  100 1300 1500"
      ]
     },
     "metadata": {},
     "output_type": "display_data"
    }
   ],
   "source": [
    "c(100, 1300, 1500)"
   ]
  },
  {
   "cell_type": "markdown",
   "metadata": {},
   "source": [
    "We can also make names for them, just like numbers:"
   ]
  },
  {
   "cell_type": "code",
   "execution_count": 163,
   "metadata": {},
   "outputs": [
    {
     "data": {
      "text/html": [
       "<ol class=list-inline>\n",
       "\t<li>1000</li>\n",
       "\t<li>1300</li>\n",
       "\t<li>1500</li>\n",
       "</ol>\n"
      ],
      "text/latex": [
       "\\begin{enumerate*}\n",
       "\\item 1000\n",
       "\\item 1300\n",
       "\\item 1500\n",
       "\\end{enumerate*}\n"
      ],
      "text/markdown": [
       "1. 1000\n",
       "2. 1300\n",
       "3. 1500\n",
       "\n",
       "\n"
      ],
      "text/plain": [
       "[1] 1000 1300 1500"
      ]
     },
     "metadata": {},
     "output_type": "display_data"
    }
   ],
   "source": [
    "data <- c(1000, 1300, 1500)\n",
    "data"
   ]
  },
  {
   "cell_type": "markdown",
   "metadata": {},
   "source": [
    "We can also add onto them very simply:"
   ]
  },
  {
   "cell_type": "code",
   "execution_count": 164,
   "metadata": {},
   "outputs": [
    {
     "data": {
      "text/html": [
       "<ol class=list-inline>\n",
       "\t<li>1000</li>\n",
       "\t<li>1300</li>\n",
       "\t<li>1500</li>\n",
       "\t<li>2000</li>\n",
       "</ol>\n"
      ],
      "text/latex": [
       "\\begin{enumerate*}\n",
       "\\item 1000\n",
       "\\item 1300\n",
       "\\item 1500\n",
       "\\item 2000\n",
       "\\end{enumerate*}\n"
      ],
      "text/markdown": [
       "1. 1000\n",
       "2. 1300\n",
       "3. 1500\n",
       "4. 2000\n",
       "\n",
       "\n"
      ],
      "text/plain": [
       "[1] 1000 1300 1500 2000"
      ]
     },
     "metadata": {},
     "output_type": "display_data"
    }
   ],
   "source": [
    "data <- c(1000, 1300, 1500)\n",
    "c(data, 2000)"
   ]
  },
  {
   "cell_type": "markdown",
   "metadata": {},
   "source": [
    "The result of that operation can then be put back into a variable, including the same one:"
   ]
  },
  {
   "cell_type": "code",
   "execution_count": 165,
   "metadata": {},
   "outputs": [
    {
     "data": {
      "text/html": [
       "<ol class=list-inline>\n",
       "\t<li>1000</li>\n",
       "\t<li>1300</li>\n",
       "\t<li>1500</li>\n",
       "\t<li>2000</li>\n",
       "</ol>\n"
      ],
      "text/latex": [
       "\\begin{enumerate*}\n",
       "\\item 1000\n",
       "\\item 1300\n",
       "\\item 1500\n",
       "\\item 2000\n",
       "\\end{enumerate*}\n"
      ],
      "text/markdown": [
       "1. 1000\n",
       "2. 1300\n",
       "3. 1500\n",
       "4. 2000\n",
       "\n",
       "\n"
      ],
      "text/plain": [
       "[1] 1000 1300 1500 2000"
      ]
     },
     "metadata": {},
     "output_type": "display_data"
    }
   ],
   "source": [
    "data <- c(1000, 1300, 1500)\n",
    "data <- c(data, 2000)\n",
    "\n",
    "data"
   ]
  },
  {
   "cell_type": "markdown",
   "metadata": {},
   "source": [
    "We can then ask the computer to plot the data in the container:"
   ]
  },
  {
   "cell_type": "code",
   "execution_count": 166,
   "metadata": {},
   "outputs": [
    {
     "data": {
      "image/png": "[encoded data removed]",
      "text/plain": [
       "plot without title"
      ]
     },
     "metadata": {},
     "output_type": "display_data"
    }
   ],
   "source": [
    "plot(data)"
   ]
  },
  {
   "cell_type": "markdown",
   "metadata": {},
   "source": [
    "Change the latest version of your computation (the one with varying `how_often_per_month`) to include plotting by introducing a `balances` variable:"
   ]
  },
  {
   "cell_type": "code",
   "execution_count": 176,
   "metadata": {},
   "outputs": [
    {
     "data": {
      "image/png": "[encoded data removed]",
      "text/plain": [
       "plot without title"
      ]
     },
     "metadata": {},
     "output_type": "display_data"
    }
   ],
   "source": [
    "#clear\n",
    "how_often_per_month <- 5\n",
    "starting_balance <- 10000\n",
    "interest_rate <- 0.04\n",
    "compounding_interval <- (1/(12*how_often_per_month))\n",
    "\n",
    "balance <- starting_balance\n",
    "balances <- c(starting_balance)\n",
    "\n",
    "compoundings <- 8*how_often_per_month\n",
    "for (i in 1:compoundings) {\n",
    "    balance <- balance + balance * interest_rate * compounding_interval\n",
    "    balances <- c(balances, balance)\n",
    "}\n",
    "\n",
    "plot(balances)"
   ]
  },
  {
   "cell_type": "markdown",
   "metadata": {},
   "source": [
    "It is a little annoying that the labeling of the x-axis is just the \"Index\", i.e. the number of the entry in the container. Fortunately, we can fix that by passing *another* container (that has to have the same length as the first one) that includes x-axis positions:\n",
    "\n",
    "**Note** that the x-axis positions often do but do not *have to* have equal spacing!"
   ]
  },
  {
   "cell_type": "code",
   "execution_count": 178,
   "metadata": {},
   "outputs": [
    {
     "data": {
      "image/png": "[encoded data removed]",
      "text/plain": [
       "plot without title"
      ]
     },
     "metadata": {},
     "output_type": "display_data"
    }
   ],
   "source": [
    "xpos <- c(1, 3, 10, 20)\n",
    "\n",
    "data <- c(1000, 1300, 1500)\n",
    "data <- c(data, 2000)\n",
    "\n",
    "plot(xpos, data)"
   ]
  },
  {
   "cell_type": "markdown",
   "metadata": {},
   "source": [
    "* Modify your computation from above to also keep track of time, and\n",
    "* add code to build a container `times` that, at the end, has the same number of entries as `balances` that keeps track of the time in months\n",
    "\n",
    "**FIXME:** This is a pretty big jump. We should probably break this down into smaller steps."
   ]
  },
  {
   "cell_type": "code",
   "execution_count": 196,
   "metadata": {},
   "outputs": [
    {
     "data": {
      "image/png": "[encoded data removed]",
      "text/plain": [
       "plot without title"
      ]
     },
     "metadata": {},
     "output_type": "display_data"
    }
   ],
   "source": [
    "#clear\n",
    "how_often_per_month <- 5\n",
    "starting_balance <- 10000\n",
    "interest_rate <- 0.04\n",
    "compounding_interval <- (1/(12*how_often_per_month))\n",
    "\n",
    "balance <- starting_balance\n",
    "balances <- c(starting_balance)\n",
    "time <- 0\n",
    "times <- c(0)\n",
    "\n",
    "compoundings <- 240*how_often_per_month\n",
    "for (i in 1:compoundings) {\n",
    "    balance <- balance + balance * interest_rate * compounding_interval\n",
    "    balances <- c(balances, balance)\n",
    "    time <- time + 1/how_often_per_month\n",
    "    times <- c(times, time)\n",
    "}\n",
    "\n",
    "plot(times, balances)"
   ]
  },
  {
   "cell_type": "markdown",
   "metadata": {},
   "source": [
    "* Does the graph you obtain look like an exponential function? Should it?\n",
    "* What happens if you let the computation run for more months? 10 years? 20 years?\n",
    "* How does the final balance change if you modify the number of compoundings?\n",
    "* How many individual compounding steps has the computer taken for a 20-year, 5-times-a-month compunding calculation?"
   ]
  },
  {
   "cell_type": "code",
   "execution_count": 197,
   "metadata": {},
   "outputs": [
    {
     "data": {
      "text/html": [
       "1200"
      ],
      "text/latex": [
       "1200"
      ],
      "text/markdown": [
       "1200"
      ],
      "text/plain": [
       "[1] 1200"
      ]
     },
     "metadata": {},
     "output_type": "display_data"
    }
   ],
   "source": [
    "#clear\n",
    "20*12*5"
   ]
  },
  {
   "cell_type": "markdown",
   "metadata": {},
   "source": [
    "# To-do\n",
    "\n",
    "* computing slopes"
   ]
  }
 ],
 "metadata": {
  "kernelspec": {
   "display_name": "R",
   "language": "R",
   "name": "ir"
  },
  "language_info": {
   "codemirror_mode": "r",
   "file_extension": ".r",
   "mimetype": "text/x-r-source",
   "name": "R",
   "pygments_lexer": "r",
   "version": "3.6.1"
  }
 },
 "nbformat": 4,
 "nbformat_minor": 4
}
