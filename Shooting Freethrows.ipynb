{
 "cells": [
  {
   "cell_type": "markdown",
   "metadata": {},
   "source": [
    "# Research question: If you shoot 10 freethrows a minute for an hour, what are the chances of making 20 in a row at some point?\n",
    "\n"
   ]
  },
  {
   "cell_type": "markdown",
   "metadata": {},
   "source": [
    "First, let's set up some variables."
   ]
  },
  {
   "cell_type": "code",
   "execution_count": null,
   "metadata": {},
   "outputs": [],
   "source": [
    "freethrows.per.minute = 10\n",
    "total.freethrows = freethrows.per.minute*60"
   ]
  },
  {
   "cell_type": "markdown",
   "metadata": {},
   "source": [
    "Next, we need to have a container that holds all of the freethrow attempts. It will be set up to have initial values of zero. Eventually, a \"1\" will represent making the freethrow."
   ]
  },
  {
   "cell_type": "code",
   "execution_count": null,
   "metadata": {},
   "outputs": [],
   "source": [
    "attempts = rep(0,total.freethrows)"
   ]
  },
  {
   "cell_type": "markdown",
   "metadata": {},
   "source": [
    "**Decision time:** What is your freethrow percentage? (On average, how many freethrows do you make if you shoot 100 of them?)"
   ]
  },
  {
   "cell_type": "code",
   "execution_count": null,
   "metadata": {},
   "outputs": [],
   "source": [
    "freethrow.percentage = 72"
   ]
  },
  {
   "cell_type": "markdown",
   "metadata": {},
   "source": [
    "Now we need a way to simulate this process once. If we can do it once, we can ask the commputer to do it many many more times.\n",
    "\n",
    "Our simulation will work like this: Generate a random number between 0 and 100. If it is *freethrow.percentage* or less, it will represent making the shot. Otherwise, the shot is missed.\n",
    "\n",
    "We can then get a list representing each freethrow attempted."
   ]
  },
  {
   "cell_type": "code",
   "execution_count": null,
   "metadata": {},
   "outputs": [],
   "source": [
    "random.numbers = runif(total.freethrows,0,100)\n",
    "# Check if the random numbers represent a \"make\" or a \"miss\". Store this output.\n",
    "attempts = random.numbers < freethrow.percentage\n",
    "print(attempts)"
   ]
  },
  {
   "cell_type": "markdown",
   "metadata": {},
   "source": [
    "Done! We just need a way to check how many in a row were made at any given point. We also need to keep track of the longest \"run\" while checking.\n",
    "\n",
    "We want to walk through each of the attempts, one at a time. This can be done with a \"for loop\". See the code below."
   ]
  },
  {
   "cell_type": "code",
   "execution_count": null,
   "metadata": {},
   "outputs": [],
   "source": [
    "counter = 0\n",
    "run.lengths = c()\n",
    "\n",
    "for(i in 1:total.freethrows) {\n",
    "    if(attempts[i]==TRUE) {\n",
    "        counter = counter + 1\n",
    "    }\n",
    "    else {\n",
    "        # Add the current counter to the run.lengths container before resetting it.\n",
    "        run.lengths = c(run.lengths, counter)\n",
    "        counter = 0\n",
    "    }\n",
    "}\n",
    "\n",
    "print(run.lengths)"
   ]
  },
  {
   "cell_type": "markdown",
   "metadata": {},
   "source": [
    "Go look at the output for the run lengths and compare it to the list of attempts before. Do the \"run.lengths\" match the number of consecutive TRUE attempts?\n",
    "\n",
    "Did you ever make more than 20 freethrows in a row? (Are any of the run.lengths 20 or more?)"
   ]
  },
  {
   "cell_type": "raw",
   "metadata": {},
   "source": [
    "Here is all of the code so far in one block. Modify the code (changing the freethrow percentage) until you consistently get a largest run.length of at least 20."
   ]
  },
  {
   "cell_type": "code",
   "execution_count": null,
   "metadata": {},
   "outputs": [],
   "source": [
    "freethrows.per.minute = 10\n",
    "total.freethrows = freethrows.per.minute*60\n",
    "attempts = rep(0,total.freethrows)\n",
    "freethrow.percentage = 72\n",
    "\n",
    "random.numbers = runif(total.freethrows,0,100)\n",
    "# Check if the random numbers represent a \"make\" or a \"miss\". Store this output.\n",
    "attempts = random.numbers < freethrow.percentage\n",
    "\n",
    "counter = 0\n",
    "run.lengths = c()\n",
    "\n",
    "for(i in 1:total.freethrows) {\n",
    "    if(attempts[i]==TRUE) {\n",
    "        counter = counter + 1\n",
    "    }\n",
    "    else {\n",
    "        # Add the current counter to the run.lengths container before resetting it.\n",
    "        run.lengths = c(run.lengths, counter)\n",
    "        counter = 0\n",
    "    }\n",
    "}\n",
    "\n",
    "print(run.lengths)"
   ]
  },
  {
   "cell_type": "markdown",
   "metadata": {},
   "source": [
    "Would this function be useful?"
   ]
  },
  {
   "cell_type": "code",
   "execution_count": null,
   "metadata": {},
   "outputs": [],
   "source": [
    "max(run.lengths)"
   ]
  },
  {
   "cell_type": "markdown",
   "metadata": {},
   "source": [
    "Copy-and-paste (and modify) so that the code will **only** output the largest run.length for the hour."
   ]
  },
  {
   "cell_type": "code",
   "execution_count": null,
   "metadata": {},
   "outputs": [],
   "source": []
  },
  {
   "cell_type": "markdown",
   "metadata": {},
   "source": [
    "At a certain free-throw percentage, what if we could simulate this process many more times and report a *median* run.length for a given freethrow percentage. We create another loop on the outside of the code and a container to hold the largest run.length each time."
   ]
  },
  {
   "cell_type": "code",
   "execution_count": null,
   "metadata": {},
   "outputs": [],
   "source": [
    "iterations = 100\n",
    "max.run.lengths = c()\n",
    "\n",
    "for(i in 1:iterations) {\n",
    "    freethrows.per.minute = 10\n",
    "    total.freethrows = freethrows.per.minute*60\n",
    "    attempts = rep(0,total.freethrows)\n",
    "    freethrow.percentage = 72\n",
    "\n",
    "    random.numbers = runif(total.freethrows,0,100)\n",
    "    # Check if the random numbers represent a \"make\" or a \"miss\". Store this output.\n",
    "    attempts = random.numbers < freethrow.percentage\n",
    "\n",
    "    counter = 0\n",
    "    run.lengths = c()\n",
    "\n",
    "    for(i in 1:total.freethrows) {\n",
    "        if(attempts[i]==TRUE) {\n",
    "            counter = counter + 1\n",
    "        }\n",
    "        else {\n",
    "            # Add the current counter to the run.lengths container before resetting it.\n",
    "            run.lengths = c(run.lengths, counter)\n",
    "            counter = 0\n",
    "        }\n",
    "    }\n",
    "\n",
    "    max.run.lengths = c(max.run.lengths,max(run.lengths))\n",
    "}\n",
    "\n",
    "print(max.run.lengths)\n",
    "median(max.run.lengths)"
   ]
  },
  {
   "cell_type": "markdown",
   "metadata": {},
   "source": [
    "Use the code above to find a \"typical\" run.length for the following freethrow percentages. Remember that we can use the median to represent a \"typical\" outcome.\n",
    "\n",
    "30:\n",
    "\n",
    "50:\n",
    "\n",
    "80:\n",
    "\n",
    "95:"
   ]
  },
  {
   "cell_type": "markdown",
   "metadata": {},
   "source": [
    "# Your task: \n",
    "\n",
    "Suppose you shoot freethrows for a full day (24 hours). Write a program that can report a \"typical\" run.length for any given freethrow percentage."
   ]
  },
  {
   "cell_type": "code",
   "execution_count": null,
   "metadata": {},
   "outputs": [],
   "source": []
  }
 ],
 "metadata": {
  "kernelspec": {
   "display_name": "R",
   "language": "R",
   "name": "ir"
  },
  "language_info": {
   "codemirror_mode": "r",
   "file_extension": ".r",
   "mimetype": "text/x-r-source",
   "name": "R",
   "pygments_lexer": "r",
   "version": "3.6.1"
  }
 },
 "nbformat": 4,
 "nbformat_minor": 2
}
